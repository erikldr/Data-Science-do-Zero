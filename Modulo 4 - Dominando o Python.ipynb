{
 "cells": [
  {
   "cell_type": "markdown",
   "id": "assumed-clerk",
   "metadata": {},
   "source": [
    "# MinerandoDados - Linguagem Python"
   ]
  },
  {
   "cell_type": "code",
   "execution_count": 13,
   "id": "square-external",
   "metadata": {},
   "outputs": [],
   "source": [
    "# Comentario em linha"
   ]
  },
  {
   "cell_type": "code",
   "execution_count": 14,
   "id": "recent-invalid",
   "metadata": {},
   "outputs": [
    {
     "data": {
      "text/plain": [
       "'Comentario em bloco'"
      ]
     },
     "execution_count": 14,
     "metadata": {},
     "output_type": "execute_result"
    }
   ],
   "source": [
    "'''Comentario em bloco'''"
   ]
  },
  {
   "cell_type": "code",
   "execution_count": 2,
   "id": "corrected-myanmar",
   "metadata": {},
   "outputs": [
    {
     "name": "stdout",
     "output_type": "stream",
     "text": [
      "Hello World!\n"
     ]
    }
   ],
   "source": [
    "print('Hello World!')"
   ]
  },
  {
   "cell_type": "code",
   "execution_count": 3,
   "id": "rising-nepal",
   "metadata": {},
   "outputs": [
    {
     "data": {
      "text/plain": [
       "'Hello world!'"
      ]
     },
     "execution_count": 3,
     "metadata": {},
     "output_type": "execute_result"
    }
   ],
   "source": [
    "'Hello world!'"
   ]
  },
  {
   "cell_type": "code",
   "execution_count": 4,
   "id": "interested-logic",
   "metadata": {},
   "outputs": [],
   "source": [
    "# Operações matemáticas."
   ]
  },
  {
   "cell_type": "code",
   "execution_count": 5,
   "id": "portable-rugby",
   "metadata": {},
   "outputs": [
    {
     "data": {
      "text/plain": [
       "20"
      ]
     },
     "execution_count": 5,
     "metadata": {},
     "output_type": "execute_result"
    }
   ],
   "source": [
    "2 + 18"
   ]
  },
  {
   "cell_type": "code",
   "execution_count": 6,
   "id": "warming-alexandria",
   "metadata": {},
   "outputs": [
    {
     "data": {
      "text/plain": [
       "0"
      ]
     },
     "execution_count": 6,
     "metadata": {},
     "output_type": "execute_result"
    }
   ],
   "source": [
    "2 - 2"
   ]
  },
  {
   "cell_type": "code",
   "execution_count": 7,
   "id": "frozen-andrews",
   "metadata": {},
   "outputs": [
    {
     "data": {
      "text/plain": [
       "4"
      ]
     },
     "execution_count": 7,
     "metadata": {},
     "output_type": "execute_result"
    }
   ],
   "source": [
    "2 * 2"
   ]
  },
  {
   "cell_type": "code",
   "execution_count": 8,
   "id": "roman-reverse",
   "metadata": {},
   "outputs": [
    {
     "data": {
      "text/plain": [
       "1.0"
      ]
     },
     "execution_count": 8,
     "metadata": {},
     "output_type": "execute_result"
    }
   ],
   "source": [
    "2 / 2"
   ]
  },
  {
   "cell_type": "code",
   "execution_count": 9,
   "id": "handled-compatibility",
   "metadata": {},
   "outputs": [
    {
     "data": {
      "text/plain": [
       "8.7"
      ]
     },
     "execution_count": 9,
     "metadata": {},
     "output_type": "execute_result"
    }
   ],
   "source": [
    "3.2 + 5.5"
   ]
  },
  {
   "cell_type": "code",
   "execution_count": 10,
   "id": "previous-performance",
   "metadata": {},
   "outputs": [
    {
     "data": {
      "text/plain": [
       "2.766666666666667"
      ]
     },
     "execution_count": 10,
     "metadata": {},
     "output_type": "execute_result"
    }
   ],
   "source": [
    "8.3 / 3"
   ]
  },
  {
   "cell_type": "code",
   "execution_count": 11,
   "id": "healthy-latex",
   "metadata": {},
   "outputs": [
    {
     "data": {
      "text/plain": [
       "70.17999999999999"
      ]
     },
     "execution_count": 11,
     "metadata": {},
     "output_type": "execute_result"
    }
   ],
   "source": [
    "12.1 * 5.8"
   ]
  },
  {
   "cell_type": "markdown",
   "id": "close-orleans",
   "metadata": {},
   "source": [
    "# Funções em python"
   ]
  },
  {
   "cell_type": "code",
   "execution_count": 15,
   "id": "laughing-cookbook",
   "metadata": {},
   "outputs": [
    {
     "data": {
      "text/plain": [
       "int"
      ]
     },
     "execution_count": 15,
     "metadata": {},
     "output_type": "execute_result"
    }
   ],
   "source": [
    "type(5)"
   ]
  },
  {
   "cell_type": "code",
   "execution_count": 16,
   "id": "neither-recording",
   "metadata": {},
   "outputs": [
    {
     "data": {
      "text/plain": [
       "float"
      ]
     },
     "execution_count": 16,
     "metadata": {},
     "output_type": "execute_result"
    }
   ],
   "source": [
    "type(1.3)"
   ]
  },
  {
   "cell_type": "code",
   "execution_count": 17,
   "id": "absolute-federation",
   "metadata": {},
   "outputs": [
    {
     "data": {
      "text/plain": [
       "str"
      ]
     },
     "execution_count": 17,
     "metadata": {},
     "output_type": "execute_result"
    }
   ],
   "source": [
    "type(\"String\")"
   ]
  },
  {
   "cell_type": "markdown",
   "id": "minus-worry",
   "metadata": {},
   "source": [
    "# Funções de Conversão"
   ]
  },
  {
   "cell_type": "code",
   "execution_count": 18,
   "id": "monetary-bhutan",
   "metadata": {},
   "outputs": [
    {
     "data": {
      "text/plain": [
       "5"
      ]
     },
     "execution_count": 18,
     "metadata": {},
     "output_type": "execute_result"
    }
   ],
   "source": [
    "int(5.3)"
   ]
  },
  {
   "cell_type": "code",
   "execution_count": 19,
   "id": "detected-interaction",
   "metadata": {},
   "outputs": [
    {
     "data": {
      "text/plain": [
       "7.0"
      ]
     },
     "execution_count": 19,
     "metadata": {},
     "output_type": "execute_result"
    }
   ],
   "source": [
    "float(7)"
   ]
  },
  {
   "cell_type": "code",
   "execution_count": 20,
   "id": "wooden-funeral",
   "metadata": {},
   "outputs": [
    {
     "data": {
      "text/plain": [
       "'13'"
      ]
     },
     "execution_count": 20,
     "metadata": {},
     "output_type": "execute_result"
    }
   ],
   "source": [
    "str(13)"
   ]
  },
  {
   "cell_type": "code",
   "execution_count": 21,
   "id": "liquid-donor",
   "metadata": {},
   "outputs": [],
   "source": [
    "# Arredondando valores"
   ]
  },
  {
   "cell_type": "code",
   "execution_count": 24,
   "id": "running-performer",
   "metadata": {},
   "outputs": [
    {
     "data": {
      "text/plain": [
       "2"
      ]
     },
     "execution_count": 24,
     "metadata": {},
     "output_type": "execute_result"
    }
   ],
   "source": [
    "round(2.2364234623)"
   ]
  },
  {
   "cell_type": "code",
   "execution_count": 25,
   "id": "numeric-murray",
   "metadata": {},
   "outputs": [
    {
     "data": {
      "text/plain": [
       "2.24"
      ]
     },
     "execution_count": 25,
     "metadata": {},
     "output_type": "execute_result"
    }
   ],
   "source": [
    "round(2.2364234623, 2)"
   ]
  },
  {
   "cell_type": "markdown",
   "id": "vertical-homeless",
   "metadata": {},
   "source": [
    "# Trabalhando com variáveis"
   ]
  },
  {
   "cell_type": "code",
   "execution_count": 34,
   "id": "conservative-trading",
   "metadata": {},
   "outputs": [],
   "source": [
    "v1 = 1\n",
    "v2 = 2\n",
    "v3 = 3"
   ]
  },
  {
   "cell_type": "code",
   "execution_count": 35,
   "id": "worth-luxembourg",
   "metadata": {},
   "outputs": [
    {
     "data": {
      "text/plain": [
       "3"
      ]
     },
     "execution_count": 35,
     "metadata": {},
     "output_type": "execute_result"
    }
   ],
   "source": [
    "v1 + v2"
   ]
  },
  {
   "cell_type": "code",
   "execution_count": 36,
   "id": "capital-provincial",
   "metadata": {},
   "outputs": [],
   "source": [
    "# Reatribuindo um valor a variavel (tipo dinâmico)"
   ]
  },
  {
   "cell_type": "code",
   "execution_count": 37,
   "id": "cardiovascular-gathering",
   "metadata": {},
   "outputs": [
    {
     "data": {
      "text/plain": [
       "int"
      ]
     },
     "execution_count": 37,
     "metadata": {},
     "output_type": "execute_result"
    }
   ],
   "source": [
    "type(v1)"
   ]
  },
  {
   "cell_type": "code",
   "execution_count": 38,
   "id": "surface-mentor",
   "metadata": {},
   "outputs": [],
   "source": [
    "v1 = 'string'"
   ]
  },
  {
   "cell_type": "code",
   "execution_count": 39,
   "id": "laden-procurement",
   "metadata": {},
   "outputs": [
    {
     "data": {
      "text/plain": [
       "str"
      ]
     },
     "execution_count": 39,
     "metadata": {},
     "output_type": "execute_result"
    }
   ],
   "source": [
    "type(v1)"
   ]
  },
  {
   "cell_type": "code",
   "execution_count": 44,
   "id": "ethical-conference",
   "metadata": {},
   "outputs": [],
   "source": [
    "v1, v2 = 1, 4"
   ]
  },
  {
   "cell_type": "code",
   "execution_count": 45,
   "id": "surprising-search",
   "metadata": {},
   "outputs": [
    {
     "data": {
      "text/plain": [
       "(1, 4)"
      ]
     },
     "execution_count": 45,
     "metadata": {},
     "output_type": "execute_result"
    }
   ],
   "source": [
    "v1, v2"
   ]
  },
  {
   "cell_type": "markdown",
   "id": "dried-indianapolis",
   "metadata": {},
   "source": [
    "# Operações Matemáticas e Variáveis"
   ]
  },
  {
   "cell_type": "code",
   "execution_count": 46,
   "id": "acting-olympus",
   "metadata": {},
   "outputs": [],
   "source": [
    "resultado = v2 * 15"
   ]
  },
  {
   "cell_type": "code",
   "execution_count": 47,
   "id": "leading-transaction",
   "metadata": {},
   "outputs": [
    {
     "data": {
      "text/plain": [
       "60"
      ]
     },
     "execution_count": 47,
     "metadata": {},
     "output_type": "execute_result"
    }
   ],
   "source": [
    "resultado"
   ]
  },
  {
   "cell_type": "markdown",
   "id": "geographic-biodiversity",
   "metadata": {},
   "source": [
    "# Restrições para criaçãod e variáveis"
   ]
  },
  {
   "cell_type": "code",
   "execution_count": 50,
   "id": "wrapped-foundation",
   "metadata": {},
   "outputs": [
    {
     "data": {
      "text/plain": [
       "'\\nNão começar com números\\nSeparar os espaços com underline\\nNão utilizar palavras reservadas\\n'"
      ]
     },
     "execution_count": 50,
     "metadata": {},
     "output_type": "execute_result"
    }
   ],
   "source": [
    "'''\n",
    "Não começar com números\n",
    "Separar os espaços com underline\n",
    "Não utilizar palavras reservadas\n",
    "'''"
   ]
  },
  {
   "cell_type": "markdown",
   "id": "protected-differential",
   "metadata": {},
   "source": [
    "# Trabalhando com Strings"
   ]
  },
  {
   "cell_type": "code",
   "execution_count": 65,
   "id": "pursuant-threshold",
   "metadata": {},
   "outputs": [],
   "source": [
    "frase = '20 de Janeiro de 2021 '"
   ]
  },
  {
   "cell_type": "code",
   "execution_count": 66,
   "id": "musical-inspection",
   "metadata": {},
   "outputs": [
    {
     "data": {
      "text/plain": [
       "'2'"
      ]
     },
     "execution_count": 66,
     "metadata": {},
     "output_type": "execute_result"
    }
   ],
   "source": [
    "frase[0]"
   ]
  },
  {
   "cell_type": "code",
   "execution_count": 67,
   "id": "caring-runner",
   "metadata": {},
   "outputs": [],
   "source": [
    "# Slicing"
   ]
  },
  {
   "cell_type": "code",
   "execution_count": 68,
   "id": "resident-barrel",
   "metadata": {},
   "outputs": [
    {
     "data": {
      "text/plain": [
       "'021 '"
      ]
     },
     "execution_count": 68,
     "metadata": {},
     "output_type": "execute_result"
    }
   ],
   "source": [
    "frase[-4:] # Ultimos 4 caracteres"
   ]
  },
  {
   "cell_type": "code",
   "execution_count": 69,
   "id": "growing-plenty",
   "metadata": {},
   "outputs": [],
   "source": [
    "frase2 = 'Data Science do Zero'"
   ]
  },
  {
   "cell_type": "code",
   "execution_count": 70,
   "id": "little-traveler",
   "metadata": {},
   "outputs": [
    {
     "data": {
      "text/plain": [
       "'20 de Janeiro de 2021 Data Science do Zero'"
      ]
     },
     "execution_count": 70,
     "metadata": {},
     "output_type": "execute_result"
    }
   ],
   "source": [
    "frase + frase2"
   ]
  },
  {
   "cell_type": "code",
   "execution_count": 71,
   "id": "experimental-hebrew",
   "metadata": {},
   "outputs": [],
   "source": [
    "# Strings em python sao objetos que podem ser manipulados"
   ]
  },
  {
   "cell_type": "code",
   "execution_count": 77,
   "id": "editorial-metabolism",
   "metadata": {},
   "outputs": [
    {
     "data": {
      "text/plain": [
       "1"
      ]
     },
     "execution_count": 77,
     "metadata": {},
     "output_type": "execute_result"
    }
   ],
   "source": [
    "frase2.count('Zero')"
   ]
  },
  {
   "cell_type": "code",
   "execution_count": 79,
   "id": "altered-cable",
   "metadata": {},
   "outputs": [
    {
     "data": {
      "text/plain": [
       "'data science do zero'"
      ]
     },
     "execution_count": 79,
     "metadata": {},
     "output_type": "execute_result"
    }
   ],
   "source": [
    "frase2.lower()"
   ]
  },
  {
   "cell_type": "code",
   "execution_count": 80,
   "id": "economic-dragon",
   "metadata": {},
   "outputs": [
    {
     "data": {
      "text/plain": [
       "'DATA SCIENCE DO ZERO'"
      ]
     },
     "execution_count": 80,
     "metadata": {},
     "output_type": "execute_result"
    }
   ],
   "source": [
    "frase2.upper()"
   ]
  },
  {
   "cell_type": "code",
   "execution_count": 81,
   "id": "exotic-elizabeth",
   "metadata": {},
   "outputs": [
    {
     "data": {
      "text/plain": [
       "'Data science do zero'"
      ]
     },
     "execution_count": 81,
     "metadata": {},
     "output_type": "execute_result"
    }
   ],
   "source": [
    "frase2.capitalize()"
   ]
  },
  {
   "cell_type": "code",
   "execution_count": 82,
   "id": "alternative-finnish",
   "metadata": {},
   "outputs": [
    {
     "data": {
      "text/plain": [
       "False"
      ]
     },
     "execution_count": 82,
     "metadata": {},
     "output_type": "execute_result"
    }
   ],
   "source": [
    "frase2.islower()"
   ]
  },
  {
   "cell_type": "code",
   "execution_count": 84,
   "id": "human-rider",
   "metadata": {},
   "outputs": [
    {
     "data": {
      "text/plain": [
       "['Data', 'Science', 'do', 'Zero']"
      ]
     },
     "execution_count": 84,
     "metadata": {},
     "output_type": "execute_result"
    }
   ],
   "source": [
    "frase2.split()"
   ]
  },
  {
   "cell_type": "markdown",
   "id": "persistent-observer",
   "metadata": {},
   "source": [
    "# Trabalhando com Listas"
   ]
  },
  {
   "cell_type": "code",
   "execution_count": 86,
   "id": "after-motor",
   "metadata": {},
   "outputs": [
    {
     "data": {
      "text/plain": [
       "[1, 2, 3]"
      ]
     },
     "execution_count": 86,
     "metadata": {},
     "output_type": "execute_result"
    }
   ],
   "source": [
    "numeros = [1, 2, 3]\n",
    "numeros"
   ]
  },
  {
   "cell_type": "code",
   "execution_count": 88,
   "id": "piano-wholesale",
   "metadata": {},
   "outputs": [
    {
     "data": {
      "text/plain": [
       "[1, 2.0, 'python', [10, 20]]"
      ]
     },
     "execution_count": 88,
     "metadata": {},
     "output_type": "execute_result"
    }
   ],
   "source": [
    "mista = [1, 2.0, 'python', [10, 20]]\n",
    "mista"
   ]
  },
  {
   "cell_type": "code",
   "execution_count": 90,
   "id": "forward-electricity",
   "metadata": {},
   "outputs": [
    {
     "data": {
      "text/plain": [
       "20"
      ]
     },
     "execution_count": 90,
     "metadata": {},
     "output_type": "execute_result"
    }
   ],
   "source": [
    "mista[3][1]"
   ]
  },
  {
   "cell_type": "code",
   "execution_count": 93,
   "id": "subject-attention",
   "metadata": {},
   "outputs": [
    {
     "data": {
      "text/plain": [
       "[5, 20]"
      ]
     },
     "execution_count": 93,
     "metadata": {},
     "output_type": "execute_result"
    }
   ],
   "source": [
    "mista[3][0] = 5\n",
    "mista[3]"
   ]
  },
  {
   "cell_type": "code",
   "execution_count": 95,
   "id": "appreciated-guatemala",
   "metadata": {},
   "outputs": [
    {
     "data": {
      "text/plain": [
       "[1, 2.0]"
      ]
     },
     "execution_count": 95,
     "metadata": {},
     "output_type": "execute_result"
    }
   ],
   "source": [
    "mista[:2]"
   ]
  },
  {
   "cell_type": "code",
   "execution_count": 96,
   "id": "federal-pendant",
   "metadata": {},
   "outputs": [
    {
     "data": {
      "text/plain": [
       "[1, 2.0, [5, 20]]"
      ]
     },
     "execution_count": 96,
     "metadata": {},
     "output_type": "execute_result"
    }
   ],
   "source": [
    "mista.remove('python')\n",
    "mista"
   ]
  },
  {
   "cell_type": "markdown",
   "id": "proper-difficulty",
   "metadata": {},
   "source": [
    "# Operacoes em Listas"
   ]
  },
  {
   "cell_type": "code",
   "execution_count": 97,
   "id": "revised-vocabulary",
   "metadata": {},
   "outputs": [
    {
     "data": {
      "text/plain": [
       "3"
      ]
     },
     "execution_count": 97,
     "metadata": {},
     "output_type": "execute_result"
    }
   ],
   "source": [
    "len(mista)"
   ]
  },
  {
   "cell_type": "code",
   "execution_count": 98,
   "id": "accompanied-dinner",
   "metadata": {},
   "outputs": [
    {
     "data": {
      "text/plain": [
       "[1, 2.0, [5, 20]]"
      ]
     },
     "execution_count": 98,
     "metadata": {},
     "output_type": "execute_result"
    }
   ],
   "source": [
    "mista + [3, 4, 'python']\n",
    "mista"
   ]
  },
  {
   "cell_type": "code",
   "execution_count": 99,
   "id": "floral-academy",
   "metadata": {},
   "outputs": [
    {
     "data": {
      "text/plain": [
       "True"
      ]
     },
     "execution_count": 99,
     "metadata": {},
     "output_type": "execute_result"
    }
   ],
   "source": [
    "1 in mista"
   ]
  },
  {
   "cell_type": "code",
   "execution_count": 100,
   "id": "decent-clearing",
   "metadata": {},
   "outputs": [
    {
     "data": {
      "text/plain": [
       "False"
      ]
     },
     "execution_count": 100,
     "metadata": {},
     "output_type": "execute_result"
    }
   ],
   "source": [
    "5 in mista"
   ]
  },
  {
   "cell_type": "code",
   "execution_count": 101,
   "id": "split-season",
   "metadata": {},
   "outputs": [
    {
     "data": {
      "text/plain": [
       "True"
      ]
     },
     "execution_count": 101,
     "metadata": {},
     "output_type": "execute_result"
    }
   ],
   "source": [
    "5 in mista[2]"
   ]
  },
  {
   "cell_type": "code",
   "execution_count": 102,
   "id": "mysterious-fifteen",
   "metadata": {},
   "outputs": [],
   "source": [
    "lista = [1, 45, 75, 123, 774, 76543]"
   ]
  },
  {
   "cell_type": "code",
   "execution_count": 103,
   "id": "beginning-lotus",
   "metadata": {},
   "outputs": [
    {
     "data": {
      "text/plain": [
       "76543"
      ]
     },
     "execution_count": 103,
     "metadata": {},
     "output_type": "execute_result"
    }
   ],
   "source": [
    "max(lista)"
   ]
  },
  {
   "cell_type": "code",
   "execution_count": 104,
   "id": "every-check",
   "metadata": {},
   "outputs": [
    {
     "data": {
      "text/plain": [
       "1"
      ]
     },
     "execution_count": 104,
     "metadata": {},
     "output_type": "execute_result"
    }
   ],
   "source": [
    "min(lista)"
   ]
  },
  {
   "cell_type": "code",
   "execution_count": 105,
   "id": "adjusted-contrast",
   "metadata": {},
   "outputs": [
    {
     "data": {
      "text/plain": [
       "['oi', 'oi', 'oi']"
      ]
     },
     "execution_count": 105,
     "metadata": {},
     "output_type": "execute_result"
    }
   ],
   "source": [
    "['oi'] * 3"
   ]
  },
  {
   "cell_type": "markdown",
   "id": "collected-voluntary",
   "metadata": {},
   "source": [
    "# Metodos em Listas"
   ]
  },
  {
   "cell_type": "code",
   "execution_count": 106,
   "id": "tough-updating",
   "metadata": {},
   "outputs": [],
   "source": [
    "lista.append('pc')"
   ]
  },
  {
   "cell_type": "code",
   "execution_count": 107,
   "id": "liked-harvest",
   "metadata": {},
   "outputs": [
    {
     "data": {
      "text/plain": [
       "[1, 45, 75, 123, 774, 76543, 'pc']"
      ]
     },
     "execution_count": 107,
     "metadata": {},
     "output_type": "execute_result"
    }
   ],
   "source": [
    "lista"
   ]
  },
  {
   "cell_type": "code",
   "execution_count": 110,
   "id": "chicken-springer",
   "metadata": {},
   "outputs": [
    {
     "data": {
      "text/plain": [
       "[1, 45, 75, 123, 774, 76543, 'pc', 'nb', 10.5, 'nb', 10.5]"
      ]
     },
     "execution_count": 110,
     "metadata": {},
     "output_type": "execute_result"
    }
   ],
   "source": [
    "lista.extend(['nb', 10.5])\n",
    "lista"
   ]
  },
  {
   "cell_type": "code",
   "execution_count": 112,
   "id": "flush-legend",
   "metadata": {},
   "outputs": [
    {
     "data": {
      "text/plain": [
       "8"
      ]
     },
     "execution_count": 112,
     "metadata": {},
     "output_type": "execute_result"
    }
   ],
   "source": [
    "lista.index(10.5)"
   ]
  },
  {
   "cell_type": "code",
   "execution_count": 113,
   "id": "closing-winter",
   "metadata": {},
   "outputs": [],
   "source": [
    "lista.remove('nb')"
   ]
  },
  {
   "cell_type": "code",
   "execution_count": 114,
   "id": "mexican-sunrise",
   "metadata": {},
   "outputs": [
    {
     "data": {
      "text/plain": [
       "[1, 45, 75, 123, 774, 76543, 'pc', 10.5, 'nb', 10.5]"
      ]
     },
     "execution_count": 114,
     "metadata": {},
     "output_type": "execute_result"
    }
   ],
   "source": [
    "lista"
   ]
  },
  {
   "cell_type": "code",
   "execution_count": 116,
   "id": "processed-lafayette",
   "metadata": {},
   "outputs": [
    {
     "data": {
      "text/plain": [
       "1"
      ]
     },
     "execution_count": 116,
     "metadata": {},
     "output_type": "execute_result"
    }
   ],
   "source": [
    "lista.count(123)"
   ]
  },
  {
   "cell_type": "code",
   "execution_count": 121,
   "id": "intimate-breeding",
   "metadata": {},
   "outputs": [],
   "source": [
    "list1 = [1, 45, 75, 123, 774, 2, 34, 66]\n",
    "list2 = ['z', 'd', 'u', 'b']"
   ]
  },
  {
   "cell_type": "code",
   "execution_count": 124,
   "id": "final-definition",
   "metadata": {},
   "outputs": [
    {
     "data": {
      "text/plain": [
       "[1, 2, 34, 45, 66, 75, 123, 774]"
      ]
     },
     "execution_count": 124,
     "metadata": {},
     "output_type": "execute_result"
    }
   ],
   "source": [
    "list1.sort()\n",
    "list1"
   ]
  },
  {
   "cell_type": "code",
   "execution_count": 125,
   "id": "industrial-grade",
   "metadata": {},
   "outputs": [
    {
     "data": {
      "text/plain": [
       "['b', 'd', 'u', 'z']"
      ]
     },
     "execution_count": 125,
     "metadata": {},
     "output_type": "execute_result"
    }
   ],
   "source": [
    "list2.sort()\n",
    "list2"
   ]
  },
  {
   "cell_type": "markdown",
   "id": "forbidden-aircraft",
   "metadata": {},
   "source": [
    "# Listas Aninhadas"
   ]
  },
  {
   "cell_type": "code",
   "execution_count": 152,
   "id": "thirty-glenn",
   "metadata": {},
   "outputs": [],
   "source": [
    "carros = [['audi', 'fiat', 'porsche'], ['rs6', 'uno', '918 Spyder'], [2008, 96, 2021]]"
   ]
  },
  {
   "cell_type": "code",
   "execution_count": 153,
   "id": "threatened-mouse",
   "metadata": {},
   "outputs": [
    {
     "data": {
      "text/plain": [
       "['audi', 'fiat', 'porsche']"
      ]
     },
     "execution_count": 153,
     "metadata": {},
     "output_type": "execute_result"
    }
   ],
   "source": [
    "carros[0]"
   ]
  },
  {
   "cell_type": "code",
   "execution_count": 154,
   "id": "spoken-preliminary",
   "metadata": {},
   "outputs": [
    {
     "data": {
      "text/plain": [
       "['rs6', 'uno', '918 Spyder']"
      ]
     },
     "execution_count": 154,
     "metadata": {},
     "output_type": "execute_result"
    }
   ],
   "source": [
    "carros[1]"
   ]
  },
  {
   "cell_type": "code",
   "execution_count": 155,
   "id": "sitting-chess",
   "metadata": {},
   "outputs": [
    {
     "data": {
      "text/plain": [
       "[2008, 96, 2021]"
      ]
     },
     "execution_count": 155,
     "metadata": {},
     "output_type": "execute_result"
    }
   ],
   "source": [
    "carros[2]"
   ]
  },
  {
   "cell_type": "code",
   "execution_count": 156,
   "id": "beautiful-fireplace",
   "metadata": {},
   "outputs": [
    {
     "data": {
      "text/plain": [
       "('audi', 'rs6', 2008)"
      ]
     },
     "execution_count": 156,
     "metadata": {},
     "output_type": "execute_result"
    }
   ],
   "source": [
    "carros[0][0], carros[1][0], carros[2][0]"
   ]
  },
  {
   "cell_type": "markdown",
   "id": "broadband-question",
   "metadata": {},
   "source": [
    "# Trabalhando com Tuplas"
   ]
  },
  {
   "cell_type": "code",
   "execution_count": 157,
   "id": "engaged-slovak",
   "metadata": {},
   "outputs": [],
   "source": [
    "# Tuplas sao imutaveis (Nao podem ser alteradas apos sua criacao)"
   ]
  },
  {
   "cell_type": "code",
   "execution_count": 158,
   "id": "mexican-trailer",
   "metadata": {},
   "outputs": [],
   "source": [
    "tupla1 = {}"
   ]
  },
  {
   "cell_type": "code",
   "execution_count": 159,
   "id": "domestic-progress",
   "metadata": {},
   "outputs": [
    {
     "data": {
      "text/plain": [
       "{}"
      ]
     },
     "execution_count": 159,
     "metadata": {},
     "output_type": "execute_result"
    }
   ],
   "source": [
    "tupla1"
   ]
  },
  {
   "cell_type": "code",
   "execution_count": 160,
   "id": "dominant-motivation",
   "metadata": {},
   "outputs": [],
   "source": [
    "tupla1 = {'Audi', 'RS6', 2008}"
   ]
  },
  {
   "cell_type": "code",
   "execution_count": 161,
   "id": "supposed-closing",
   "metadata": {},
   "outputs": [
    {
     "data": {
      "text/plain": [
       "{2008, 'Audi', 'RS6'}"
      ]
     },
     "execution_count": 161,
     "metadata": {},
     "output_type": "execute_result"
    }
   ],
   "source": [
    "tupla1"
   ]
  },
  {
   "cell_type": "code",
   "execution_count": 169,
   "id": "damaged-possible",
   "metadata": {},
   "outputs": [],
   "source": [
    "nova_tupla = {1, 2, 3}"
   ]
  },
  {
   "cell_type": "code",
   "execution_count": 179,
   "id": "adverse-midwest",
   "metadata": {},
   "outputs": [],
   "source": [
    "nova_lista = [['audi', 'fiat', 'porsche'], ['rs6', 'uno', '918 Spyder'], [2008, 96, 2021]]"
   ]
  },
  {
   "cell_type": "code",
   "execution_count": 180,
   "id": "searching-tract",
   "metadata": {},
   "outputs": [],
   "source": [
    "tupla2 = tuple(nova_lista)"
   ]
  },
  {
   "cell_type": "code",
   "execution_count": 181,
   "id": "partial-print",
   "metadata": {},
   "outputs": [
    {
     "data": {
      "text/plain": [
       "(['audi', 'fiat', 'porsche'], ['rs6', 'uno', '918 Spyder'], [2008, 96, 2021])"
      ]
     },
     "execution_count": 181,
     "metadata": {},
     "output_type": "execute_result"
    }
   ],
   "source": [
    "tupla2"
   ]
  },
  {
   "cell_type": "code",
   "execution_count": 182,
   "id": "dried-domain",
   "metadata": {},
   "outputs": [
    {
     "data": {
      "text/plain": [
       "tuple"
      ]
     },
     "execution_count": 182,
     "metadata": {},
     "output_type": "execute_result"
    }
   ],
   "source": [
    "type(tupla2)"
   ]
  },
  {
   "cell_type": "markdown",
   "id": "gentle-nation",
   "metadata": {},
   "source": [
    "# Trabalhando com Dicionarios"
   ]
  },
  {
   "cell_type": "code",
   "execution_count": 183,
   "id": "fitting-withdrawal",
   "metadata": {},
   "outputs": [],
   "source": [
    "dic = {}"
   ]
  },
  {
   "cell_type": "code",
   "execution_count": 184,
   "id": "fuzzy-lucas",
   "metadata": {},
   "outputs": [
    {
     "data": {
      "text/plain": [
       "dict"
      ]
     },
     "execution_count": 184,
     "metadata": {},
     "output_type": "execute_result"
    }
   ],
   "source": [
    "type(dic)"
   ]
  },
  {
   "cell_type": "code",
   "execution_count": 185,
   "id": "bacterial-cowboy",
   "metadata": {},
   "outputs": [],
   "source": [
    "pessoas = {'Joao':30, 'Maria':20, 'Jose':15, \n",
    "           'pesos':{'Joao':65, 'Maria':55, 'Jose':72},\n",
    "           'valores':{1, 3, 5},\n",
    "           'Strings':{'asd', 'fgh', 'jkl'}}"
   ]
  },
  {
   "cell_type": "code",
   "execution_count": 186,
   "id": "proud-sixth",
   "metadata": {},
   "outputs": [
    {
     "data": {
      "text/plain": [
       "{'Joao': 30,\n",
       " 'Maria': 20,\n",
       " 'Jose': 15,\n",
       " 'pesos': {'Joao': 65, 'Maria': 55, 'Jose': 72},\n",
       " 'valores': {1, 3, 5},\n",
       " 'Strings': {'asd', 'fgh', 'jkl'}}"
      ]
     },
     "execution_count": 186,
     "metadata": {},
     "output_type": "execute_result"
    }
   ],
   "source": [
    "pessoas"
   ]
  },
  {
   "cell_type": "code",
   "execution_count": 191,
   "id": "constitutional-tolerance",
   "metadata": {},
   "outputs": [
    {
     "data": {
      "text/plain": [
       "65"
      ]
     },
     "execution_count": 191,
     "metadata": {},
     "output_type": "execute_result"
    }
   ],
   "source": [
    "pessoas['pesos']['Joao']"
   ]
  },
  {
   "cell_type": "code",
   "execution_count": 193,
   "id": "supreme-diary",
   "metadata": {},
   "outputs": [
    {
     "data": {
      "text/plain": [
       "{'asd', 'fgh', 'jkl'}"
      ]
     },
     "execution_count": 193,
     "metadata": {},
     "output_type": "execute_result"
    }
   ],
   "source": [
    "pessoas['Strings']"
   ]
  },
  {
   "cell_type": "markdown",
   "id": "about-football",
   "metadata": {},
   "source": [
    "# Atualizando Dicionarios"
   ]
  },
  {
   "cell_type": "code",
   "execution_count": 194,
   "id": "specified-mirror",
   "metadata": {},
   "outputs": [],
   "source": [
    "pessoas['Joao'] = 40"
   ]
  },
  {
   "cell_type": "code",
   "execution_count": 195,
   "id": "disturbed-finger",
   "metadata": {},
   "outputs": [
    {
     "data": {
      "text/plain": [
       "40"
      ]
     },
     "execution_count": 195,
     "metadata": {},
     "output_type": "execute_result"
    }
   ],
   "source": [
    "pessoas['Joao']"
   ]
  },
  {
   "cell_type": "code",
   "execution_count": 196,
   "id": "fiscal-civilian",
   "metadata": {},
   "outputs": [],
   "source": [
    "# Adicionando nova chave e valor ao dicionario"
   ]
  },
  {
   "cell_type": "code",
   "execution_count": 197,
   "id": "chinese-grain",
   "metadata": {},
   "outputs": [],
   "source": [
    "pessoas['Luiza'] = 8"
   ]
  },
  {
   "cell_type": "code",
   "execution_count": 198,
   "id": "local-shelter",
   "metadata": {},
   "outputs": [
    {
     "data": {
      "text/plain": [
       "{'Joao': 40,\n",
       " 'Maria': 20,\n",
       " 'Jose': 15,\n",
       " 'pesos': {'Joao': 65, 'Maria': 55, 'Jose': 72},\n",
       " 'valores': {1, 3, 5},\n",
       " 'Strings': {'asd', 'fgh', 'jkl'},\n",
       " 'Luiza': 8}"
      ]
     },
     "execution_count": 198,
     "metadata": {},
     "output_type": "execute_result"
    }
   ],
   "source": [
    "pessoas"
   ]
  },
  {
   "cell_type": "code",
   "execution_count": 200,
   "id": "spiritual-letter",
   "metadata": {},
   "outputs": [],
   "source": [
    "del pessoas['Jose']"
   ]
  },
  {
   "cell_type": "code",
   "execution_count": 201,
   "id": "communist-kentucky",
   "metadata": {},
   "outputs": [
    {
     "data": {
      "text/plain": [
       "{'Joao': 40,\n",
       " 'Maria': 20,\n",
       " 'pesos': {'Joao': 65, 'Maria': 55, 'Jose': 72},\n",
       " 'valores': {1, 3, 5},\n",
       " 'Strings': {'asd', 'fgh', 'jkl'},\n",
       " 'Luiza': 8}"
      ]
     },
     "execution_count": 201,
     "metadata": {},
     "output_type": "execute_result"
    }
   ],
   "source": [
    "pessoas"
   ]
  },
  {
   "cell_type": "markdown",
   "id": "celtic-monster",
   "metadata": {},
   "source": [
    "# Metodos Disponiveis"
   ]
  },
  {
   "cell_type": "code",
   "execution_count": 202,
   "id": "graduate-december",
   "metadata": {},
   "outputs": [
    {
     "data": {
      "text/plain": [
       "dict_keys(['Joao', 'Maria', 'pesos', 'valores', 'Strings', 'Luiza'])"
      ]
     },
     "execution_count": 202,
     "metadata": {},
     "output_type": "execute_result"
    }
   ],
   "source": [
    "pessoas.keys()"
   ]
  },
  {
   "cell_type": "code",
   "execution_count": 203,
   "id": "executive-playlist",
   "metadata": {},
   "outputs": [
    {
     "data": {
      "text/plain": [
       "dict_values([40, 20, {'Joao': 65, 'Maria': 55, 'Jose': 72}, {1, 3, 5}, {'fgh', 'asd', 'jkl'}, 8])"
      ]
     },
     "execution_count": 203,
     "metadata": {},
     "output_type": "execute_result"
    }
   ],
   "source": [
    "pessoas.values()"
   ]
  },
  {
   "cell_type": "code",
   "execution_count": 204,
   "id": "southern-hopkins",
   "metadata": {},
   "outputs": [],
   "source": [
    "pessoas2 = {'Tiao':60}"
   ]
  },
  {
   "cell_type": "code",
   "execution_count": 205,
   "id": "tutorial-constitution",
   "metadata": {},
   "outputs": [],
   "source": [
    "pessoas.update(pessoas2)"
   ]
  },
  {
   "cell_type": "code",
   "execution_count": 206,
   "id": "after-insulin",
   "metadata": {},
   "outputs": [
    {
     "data": {
      "text/plain": [
       "{'Joao': 40,\n",
       " 'Maria': 20,\n",
       " 'pesos': {'Joao': 65, 'Maria': 55, 'Jose': 72},\n",
       " 'valores': {1, 3, 5},\n",
       " 'Strings': {'asd', 'fgh', 'jkl'},\n",
       " 'Luiza': 8,\n",
       " 'Tiao': 60}"
      ]
     },
     "execution_count": 206,
     "metadata": {},
     "output_type": "execute_result"
    }
   ],
   "source": [
    "pessoas"
   ]
  },
  {
   "cell_type": "code",
   "execution_count": 207,
   "id": "recognized-inspiration",
   "metadata": {},
   "outputs": [
    {
     "data": {
      "text/plain": [
       "'Nao_Existe'"
      ]
     },
     "execution_count": 207,
     "metadata": {},
     "output_type": "execute_result"
    }
   ],
   "source": [
    "pessoas.get('Olivio', 'Nao_Existe')"
   ]
  },
  {
   "cell_type": "code",
   "execution_count": 211,
   "id": "parental-length",
   "metadata": {},
   "outputs": [
    {
     "data": {
      "text/plain": [
       "50"
      ]
     },
     "execution_count": 211,
     "metadata": {},
     "output_type": "execute_result"
    }
   ],
   "source": [
    "pessoas.setdefault('Olivio', 50)"
   ]
  },
  {
   "cell_type": "code",
   "execution_count": 212,
   "id": "swiss-parks",
   "metadata": {},
   "outputs": [
    {
     "data": {
      "text/plain": [
       "{'Joao': 40,\n",
       " 'Maria': 20,\n",
       " 'pesos': {'Joao': 65, 'Maria': 55, 'Jose': 72},\n",
       " 'valores': {1, 3, 5},\n",
       " 'Strings': {'asd', 'fgh', 'jkl'},\n",
       " 'Luiza': 8,\n",
       " 'Tiao': 60,\n",
       " 'Olivio': 50}"
      ]
     },
     "execution_count": 212,
     "metadata": {},
     "output_type": "execute_result"
    }
   ],
   "source": [
    "pessoas"
   ]
  },
  {
   "cell_type": "code",
   "execution_count": 213,
   "id": "basic-hanging",
   "metadata": {},
   "outputs": [
    {
     "data": {
      "text/plain": [
       "60"
      ]
     },
     "execution_count": 213,
     "metadata": {},
     "output_type": "execute_result"
    }
   ],
   "source": [
    "pessoas.pop('Tiao', 'Essa chave ja nao existe mais...')"
   ]
  },
  {
   "cell_type": "code",
   "execution_count": 214,
   "id": "partial-marijuana",
   "metadata": {},
   "outputs": [
    {
     "data": {
      "text/plain": [
       "'Essa chave ja nao existe mais...'"
      ]
     },
     "execution_count": 214,
     "metadata": {},
     "output_type": "execute_result"
    }
   ],
   "source": [
    "pessoas.pop('Tiao', 'Essa chave ja nao existe mais...')"
   ]
  },
  {
   "cell_type": "code",
   "execution_count": 217,
   "id": "derived-trade",
   "metadata": {},
   "outputs": [],
   "source": [
    "pessoas.clear() # Apaga o dicionario"
   ]
  },
  {
   "cell_type": "code",
   "execution_count": 218,
   "id": "female-belly",
   "metadata": {},
   "outputs": [
    {
     "data": {
      "text/plain": [
       "{}"
      ]
     },
     "execution_count": 218,
     "metadata": {},
     "output_type": "execute_result"
    }
   ],
   "source": [
    "pessoas"
   ]
  },
  {
   "cell_type": "markdown",
   "id": "amber-assistant",
   "metadata": {},
   "source": [
    "# Trabalhando com Estruturas Condicionais"
   ]
  },
  {
   "cell_type": "code",
   "execution_count": 219,
   "id": "banned-provider",
   "metadata": {},
   "outputs": [
    {
     "data": {
      "text/plain": [
       "True"
      ]
     },
     "execution_count": 219,
     "metadata": {},
     "output_type": "execute_result"
    }
   ],
   "source": [
    "# Retorno booleano\n",
    "10 > 5"
   ]
  },
  {
   "cell_type": "code",
   "execution_count": 220,
   "id": "national-arnold",
   "metadata": {},
   "outputs": [
    {
     "data": {
      "text/plain": [
       "True"
      ]
     },
     "execution_count": 220,
     "metadata": {},
     "output_type": "execute_result"
    }
   ],
   "source": [
    "5 <= 5"
   ]
  },
  {
   "cell_type": "code",
   "execution_count": 224,
   "id": "informal-monster",
   "metadata": {},
   "outputs": [
    {
     "name": "stdout",
     "output_type": "stream",
     "text": [
      "Verdade\n",
      "3\n",
      "Ultimo comando\n"
     ]
    }
   ],
   "source": [
    "if 10 > 1:\n",
    "    print('Verdade')\n",
    "    print(1 + 2)\n",
    "    print('Ultimo comando')"
   ]
  },
  {
   "cell_type": "code",
   "execution_count": 225,
   "id": "blocked-ethernet",
   "metadata": {},
   "outputs": [],
   "source": [
    "# Tomar cuidado com a identacao do codigo"
   ]
  },
  {
   "cell_type": "markdown",
   "id": "married-place",
   "metadata": {},
   "source": [
    "# ELSE"
   ]
  },
  {
   "cell_type": "code",
   "execution_count": 231,
   "id": "serious-settle",
   "metadata": {},
   "outputs": [
    {
     "name": "stdout",
     "output_type": "stream",
     "text": [
      "Falso\n"
     ]
    }
   ],
   "source": [
    "if 10 > 20:\n",
    "    print('Verdade')\n",
    "else:\n",
    "    print('Falso')"
   ]
  },
  {
   "cell_type": "code",
   "execution_count": 232,
   "id": "scheduled-twelve",
   "metadata": {},
   "outputs": [
    {
     "name": "stdout",
     "output_type": "stream",
     "text": [
      "Ola erik.\n"
     ]
    }
   ],
   "source": [
    "nome = 'erik'\n",
    "\n",
    "if 10 > 100 or nome == 'erik': # Operador (OR)\n",
    "    print('Ola erik.')\n",
    "else:\n",
    "    print('Acesso negado')"
   ]
  },
  {
   "cell_type": "code",
   "execution_count": 233,
   "id": "lonely-deficit",
   "metadata": {},
   "outputs": [
    {
     "name": "stdout",
     "output_type": "stream",
     "text": [
      "Acesso negado.\n"
     ]
    }
   ],
   "source": [
    "if 10 > 100 and nome == 'erik': # Operador (AND)\n",
    "    print('Ola erik.')\n",
    "else:\n",
    "    print('Acesso negado.')"
   ]
  },
  {
   "cell_type": "markdown",
   "id": "impossible-beach",
   "metadata": {},
   "source": [
    "# ELIF"
   ]
  },
  {
   "cell_type": "code",
   "execution_count": 241,
   "id": "underlying-addiction",
   "metadata": {},
   "outputs": [
    {
     "name": "stdout",
     "output_type": "stream",
     "text": [
      "Valor maior que 100\n"
     ]
    }
   ],
   "source": [
    "valor = 101\n",
    "\n",
    "if valor > 100:\n",
    "    print('Valor maior que 100')\n",
    "elif valor > 50: # So executa se nao entrar no if\n",
    "    print('Valor maior que 50')\n",
    "elif valor > 25: # So executa se nao entrar no if\n",
    "    print('Valor maior que 25')\n",
    "else:\n",
    "    print('Operacao invalida')"
   ]
  },
  {
   "cell_type": "markdown",
   "id": "specialized-spring",
   "metadata": {},
   "source": [
    "# Instrucoes IF aninhadas"
   ]
  },
  {
   "cell_type": "code",
   "execution_count": 248,
   "id": "joined-welsh",
   "metadata": {},
   "outputs": [
    {
     "name": "stdout",
     "output_type": "stream",
     "text": [
      "Acesso concedido\n"
     ]
    }
   ],
   "source": [
    "usuario = 'joao'\n",
    "senha = 'senha'\n",
    "\n",
    "if usuario == 'joao':\n",
    "    if senha == 'senha':\n",
    "        print('Acesso concedido')\n",
    "    else:\n",
    "        print('Senha incorreta')\n",
    "else:\n",
    "    print('Nome de usuario invalido')\n",
    "    "
   ]
  },
  {
   "cell_type": "markdown",
   "id": "distinct-latest",
   "metadata": {},
   "source": [
    "# Loops"
   ]
  },
  {
   "cell_type": "code",
   "execution_count": 259,
   "id": "bound-degree",
   "metadata": {},
   "outputs": [
    {
     "name": "stdout",
     "output_type": "stream",
     "text": [
      "Valor: 1\n",
      "Valor: 2\n",
      "Valor: 3\n",
      "Valor: 4\n",
      "Valor: 5\n"
     ]
    }
   ],
   "source": [
    "for i in [1, 2, 3, 4, 5]:\n",
    "    print(\"Valor:\", i)"
   ]
  },
  {
   "cell_type": "code",
   "execution_count": 260,
   "id": "needed-ability",
   "metadata": {},
   "outputs": [
    {
     "name": "stdout",
     "output_type": "stream",
     "text": [
      "S\n",
      "t\n",
      "r\n",
      "i\n",
      "n\n",
      "g\n",
      " \n",
      "A\n",
      "l\n",
      "e\n",
      "a\n",
      "t\n",
      "o\n",
      "r\n",
      "i\n",
      "a\n"
     ]
    }
   ],
   "source": [
    "for caractere in 'String Aleatoria':\n",
    "    print(caractere)"
   ]
  },
  {
   "cell_type": "code",
   "execution_count": 262,
   "id": "fixed-acoustic",
   "metadata": {},
   "outputs": [
    {
     "name": "stdout",
     "output_type": "stream",
     "text": [
      "Uno\n",
      "Fusca\n",
      "Opala\n"
     ]
    }
   ],
   "source": [
    "carros = ['Uno', 'Fusca', 'Opala']\n",
    "for carro in carros:\n",
    "    print(carro)"
   ]
  },
  {
   "cell_type": "code",
   "execution_count": 263,
   "id": "corrected-professional",
   "metadata": {},
   "outputs": [
    {
     "name": "stdout",
     "output_type": "stream",
     "text": [
      "Fulano\n",
      "Beltrano\n"
     ]
    }
   ],
   "source": [
    "idade_pessoas = {'Fulano': 20, 'Beltrano':25}\n",
    "\n",
    "for idade in idade_pessoas:\n",
    "    print(idade)"
   ]
  },
  {
   "cell_type": "code",
   "execution_count": 264,
   "id": "assisted-enterprise",
   "metadata": {},
   "outputs": [
    {
     "name": "stdout",
     "output_type": "stream",
     "text": [
      "1\n",
      "3\n",
      "5\n",
      "7\n",
      "9\n"
     ]
    }
   ],
   "source": [
    "for i in range(10):\n",
    "    if i % 2 > 0:\n",
    "        print(i)"
   ]
  },
  {
   "cell_type": "code",
   "execution_count": 265,
   "id": "induced-terrorism",
   "metadata": {},
   "outputs": [
    {
     "name": "stdout",
     "output_type": "stream",
     "text": [
      "10 abc\n",
      "15 def\n",
      "20 ghj\n"
     ]
    }
   ],
   "source": [
    "indice = [10, 15, 20]\n",
    "linhas = ['abc', 'def', 'ghj']\n",
    "\n",
    "for i, l in zip(indice, linhas):\n",
    "    print(i, l)"
   ]
  },
  {
   "cell_type": "markdown",
   "id": "recovered-outreach",
   "metadata": {},
   "source": [
    "# Loops Aninhados"
   ]
  },
  {
   "cell_type": "code",
   "execution_count": 266,
   "id": "brutal-munich",
   "metadata": {},
   "outputs": [
    {
     "name": "stdout",
     "output_type": "stream",
     "text": [
      "string1\n",
      "a\n",
      "b\n",
      "c\n",
      "string2\n",
      "a\n",
      "b\n",
      "c\n",
      "string3\n",
      "a\n",
      "b\n",
      "c\n"
     ]
    }
   ],
   "source": [
    "for i in ['string1', 'string2', 'string3']:\n",
    "    print(i)\n",
    "    for y in ['a', 'b', 'c']:\n",
    "        print(y)"
   ]
  },
  {
   "cell_type": "markdown",
   "id": "funded-mounting",
   "metadata": {},
   "source": [
    "# Break"
   ]
  },
  {
   "cell_type": "code",
   "execution_count": 273,
   "id": "ethical-praise",
   "metadata": {},
   "outputs": [
    {
     "name": "stdout",
     "output_type": "stream",
     "text": [
      "Letra: P\n",
      "Letra: y\n",
      "Letra: t\n",
      "Continuando a execucao\n"
     ]
    }
   ],
   "source": [
    "for letra in 'Python':\n",
    "    if letra == 'h':\n",
    "        break # Encerra o loop\n",
    "    print('Letra:', letra)\n",
    "print('Continuando a execucao')"
   ]
  },
  {
   "cell_type": "markdown",
   "id": "blank-joseph",
   "metadata": {},
   "source": [
    "# Continue"
   ]
  },
  {
   "cell_type": "code",
   "execution_count": 274,
   "id": "korean-tokyo",
   "metadata": {},
   "outputs": [
    {
     "name": "stdout",
     "output_type": "stream",
     "text": [
      "Letra: P\n",
      "Letra: y\n",
      "Letra: t\n",
      "Letra: o\n",
      "Letra: n\n",
      "Continuando a execucao\n"
     ]
    }
   ],
   "source": [
    "for letra in 'Python':\n",
    "    if letra == 'h':\n",
    "        continue # continua\n",
    "    print('Letra:', letra)\n",
    "print('Continuando a execucao')"
   ]
  },
  {
   "cell_type": "markdown",
   "id": "higher-regulation",
   "metadata": {},
   "source": [
    "# Loops While"
   ]
  },
  {
   "cell_type": "code",
   "execution_count": 276,
   "id": "surgical-interaction",
   "metadata": {},
   "outputs": [
    {
     "name": "stdout",
     "output_type": "stream",
     "text": [
      "0\n",
      "2\n",
      "4\n",
      "6\n",
      "8\n"
     ]
    }
   ],
   "source": [
    "i = 0\n",
    "while i < 10:\n",
    "    print(i)\n",
    "    i = i + 2"
   ]
  },
  {
   "cell_type": "code",
   "execution_count": 278,
   "id": "powered-steering",
   "metadata": {},
   "outputs": [],
   "source": [
    "i = 11\n",
    "while i < 10:\n",
    "    print(i)\n",
    "    i = i + 2"
   ]
  },
  {
   "cell_type": "markdown",
   "id": "serial-simon",
   "metadata": {},
   "source": [
    "# While com ELSE"
   ]
  },
  {
   "cell_type": "code",
   "execution_count": 280,
   "id": "stunning-clinic",
   "metadata": {},
   "outputs": [
    {
     "name": "stdout",
     "output_type": "stream",
     "text": [
      "0\n",
      "4\n",
      "8\n",
      "Numero e maior ou igual a 10\n"
     ]
    }
   ],
   "source": [
    "i = 0\n",
    "while i < 10:\n",
    "    print(i)\n",
    "    i = i + 4\n",
    "else:\n",
    "    print(\"Numero e maior ou igual a 10\")"
   ]
  },
  {
   "cell_type": "markdown",
   "id": "painful-operation",
   "metadata": {},
   "source": [
    "# While, Break, Continue"
   ]
  },
  {
   "cell_type": "code",
   "execution_count": 283,
   "id": "manual-measurement",
   "metadata": {},
   "outputs": [
    {
     "name": "stdout",
     "output_type": "stream",
     "text": [
      "0\n",
      "1\n",
      "2\n",
      "3\n",
      "4\n"
     ]
    }
   ],
   "source": [
    "i = 0\n",
    "while i < 10:\n",
    "    if i == 5:\n",
    "        break\n",
    "    print(i)\n",
    "    i = i + 1"
   ]
  },
  {
   "cell_type": "markdown",
   "id": "limiting-moore",
   "metadata": {},
   "source": [
    "# Loops Infinitos"
   ]
  },
  {
   "cell_type": "code",
   "execution_count": 285,
   "id": "aquatic-field",
   "metadata": {},
   "outputs": [
    {
     "data": {
      "text/plain": [
       "'\\ni = 0\\nwhile i < 10:\\n    print(i)\\n'"
      ]
     },
     "execution_count": 285,
     "metadata": {},
     "output_type": "execute_result"
    }
   ],
   "source": [
    "'''\n",
    "i = 0\n",
    "while i < 10:\n",
    "    print(i)\n",
    "'''\n",
    "# Fica em execucao ate finalizarmos o kernel"
   ]
  },
  {
   "cell_type": "markdown",
   "id": "authorized-extreme",
   "metadata": {},
   "source": [
    "# Manipulando Arquivos no Python"
   ]
  },
  {
   "cell_type": "code",
   "execution_count": null,
   "id": "authentic-switzerland",
   "metadata": {},
   "outputs": [],
   "source": [
    "# Funcao nativa open() gera um objeto do tipo arquivo.\n",
    "file = open('nome_arquivo.csv', 'r')"
   ]
  },
  {
   "cell_type": "code",
   "execution_count": null,
   "id": "revolutionary-crossing",
   "metadata": {},
   "outputs": [],
   "source": [
    "print(file)"
   ]
  },
  {
   "cell_type": "code",
   "execution_count": null,
   "id": "refined-newman",
   "metadata": {},
   "outputs": [],
   "source": [
    "# modos de abertura de arquivos\n",
    "\n",
    "r = modo padrao de abertura (apenas leitura)\n",
    "w = modo de escrita.\n",
    "a = modo de escrita do tipo acrescentar (no fim do arquivo)."
   ]
  },
  {
   "cell_type": "code",
   "execution_count": null,
   "id": "valued-priority",
   "metadata": {},
   "outputs": [],
   "source": [
    "lista = file.readlines()\n",
    "print(type(lista))"
   ]
  },
  {
   "cell_type": "code",
   "execution_count": null,
   "id": "assisted-murder",
   "metadata": {},
   "outputs": [],
   "source": [
    "for i in lista:\n",
    "    print(i)"
   ]
  },
  {
   "cell_type": "code",
   "execution_count": null,
   "id": "contained-karma",
   "metadata": {},
   "outputs": [],
   "source": [
    "# Mostra a quantidade de caracteres o arquivo possui\n",
    "print(file.tell())"
   ]
  },
  {
   "cell_type": "code",
   "execution_count": null,
   "id": "economic-secretary",
   "metadata": {},
   "outputs": [],
   "source": [
    "# Lendo um arquivo\n",
    "\n",
    "file = open('automobile.csv')\n",
    "print(file.read())"
   ]
  },
  {
   "cell_type": "markdown",
   "id": "becoming-olive",
   "metadata": {},
   "source": [
    "# Interando sobre um arquivo"
   ]
  },
  {
   "cell_type": "code",
   "execution_count": null,
   "id": "million-specification",
   "metadata": {},
   "outputs": [],
   "source": [
    "type(file)"
   ]
  },
  {
   "cell_type": "code",
   "execution_count": null,
   "id": "devoted-sculpture",
   "metadata": {},
   "outputs": [],
   "source": [
    "# Loops para iterar no arquivo (ajuda no uso de memoria em arquivos grandes)\n",
    "\n",
    "file = open('automobile.csv')\n",
    "for linha in file:\n",
    "    print(linha)"
   ]
  },
  {
   "cell_type": "markdown",
   "id": "olive-canon",
   "metadata": {},
   "source": [
    "# Escrevendo em Arquivos"
   ]
  },
  {
   "cell_type": "code",
   "execution_count": 2,
   "id": "parliamentary-bernard",
   "metadata": {},
   "outputs": [],
   "source": [
    "file2 = open('resultados.txt', 'w')"
   ]
  },
  {
   "cell_type": "code",
   "execution_count": 3,
   "id": "concerned-carroll",
   "metadata": {},
   "outputs": [
    {
     "data": {
      "text/plain": [
       "25"
      ]
     },
     "execution_count": 3,
     "metadata": {},
     "output_type": "execute_result"
    }
   ],
   "source": [
    "file2.write('alguma frase aleatoria')\n",
    "file2.write('outra frase bem aleatoria')"
   ]
  },
  {
   "cell_type": "code",
   "execution_count": 4,
   "id": "regulated-asian",
   "metadata": {},
   "outputs": [],
   "source": [
    "file2.close()"
   ]
  },
  {
   "cell_type": "code",
   "execution_count": 5,
   "id": "acquired-membership",
   "metadata": {},
   "outputs": [
    {
     "ename": "ValueError",
     "evalue": "I/O operation on closed file.",
     "output_type": "error",
     "traceback": [
      "\u001b[1;31m---------------------------------------------------------------------------\u001b[0m",
      "\u001b[1;31mValueError\u001b[0m                                Traceback (most recent call last)",
      "\u001b[1;32m<ipython-input-5-4a9205324152>\u001b[0m in \u001b[0;36m<module>\u001b[1;34m\u001b[0m\n\u001b[1;32m----> 1\u001b[1;33m \u001b[0mfile2\u001b[0m\u001b[1;33m.\u001b[0m\u001b[0mread\u001b[0m\u001b[1;33m(\u001b[0m\u001b[1;33m)\u001b[0m\u001b[1;33m\u001b[0m\u001b[1;33m\u001b[0m\u001b[0m\n\u001b[0m",
      "\u001b[1;31mValueError\u001b[0m: I/O operation on closed file."
     ]
    }
   ],
   "source": [
    "file2.read()"
   ]
  },
  {
   "cell_type": "code",
   "execution_count": 6,
   "id": "extended-threshold",
   "metadata": {},
   "outputs": [],
   "source": [
    "file2 = open('resultados.txt', 'r')"
   ]
  },
  {
   "cell_type": "code",
   "execution_count": 8,
   "id": "driven-traffic",
   "metadata": {},
   "outputs": [
    {
     "data": {
      "text/plain": [
       "['alguma frase aleatoriaoutra frase bem aleatoria']"
      ]
     },
     "execution_count": 8,
     "metadata": {},
     "output_type": "execute_result"
    }
   ],
   "source": [
    "file2.readlines()"
   ]
  },
  {
   "cell_type": "code",
   "execution_count": 9,
   "id": "powered-finish",
   "metadata": {},
   "outputs": [],
   "source": [
    "# Modo de abertura Acrescentar\n",
    "\n",
    "file2 = open('resultados.txt', 'a')"
   ]
  },
  {
   "cell_type": "code",
   "execution_count": 10,
   "id": "invisible-separate",
   "metadata": {},
   "outputs": [],
   "source": [
    "file2.write('teste')\n",
    "file2.close()"
   ]
  },
  {
   "cell_type": "code",
   "execution_count": 11,
   "id": "curious-eclipse",
   "metadata": {},
   "outputs": [
    {
     "data": {
      "text/plain": [
       "['alguma frase aleatoriaoutra frase bem aleatoriateste']"
      ]
     },
     "execution_count": 11,
     "metadata": {},
     "output_type": "execute_result"
    }
   ],
   "source": [
    "file2 = open('resultados.txt', 'r')\n",
    "file2.readlines()"
   ]
  },
  {
   "cell_type": "markdown",
   "id": "lined-bikini",
   "metadata": {},
   "source": [
    "# Metodo writelines()"
   ]
  },
  {
   "cell_type": "code",
   "execution_count": 12,
   "id": "vital-stadium",
   "metadata": {},
   "outputs": [],
   "source": [
    "lista = ['tentando', 'manipular', 'arquivos', 'no', 'python']"
   ]
  },
  {
   "cell_type": "code",
   "execution_count": 13,
   "id": "cooperative-petersburg",
   "metadata": {},
   "outputs": [],
   "source": [
    "file2 = open('resultados.txt', 'w')"
   ]
  },
  {
   "cell_type": "code",
   "execution_count": 14,
   "id": "realistic-junior",
   "metadata": {},
   "outputs": [],
   "source": [
    "file2.writelines(lista)\n",
    "file2.close()"
   ]
  },
  {
   "cell_type": "code",
   "execution_count": 15,
   "id": "incorporate-numbers",
   "metadata": {},
   "outputs": [
    {
     "data": {
      "text/plain": [
       "['tentandomanipulararquivosnopython']"
      ]
     },
     "execution_count": 15,
     "metadata": {},
     "output_type": "execute_result"
    }
   ],
   "source": [
    "file2 = open('resultados.txt', 'r')\n",
    "file2.readlines()"
   ]
  },
  {
   "cell_type": "markdown",
   "id": "weighted-suite",
   "metadata": {},
   "source": [
    "# Trabalhando com a instrucao \"with\""
   ]
  },
  {
   "cell_type": "code",
   "execution_count": 16,
   "id": "national-width",
   "metadata": {},
   "outputs": [
    {
     "name": "stdout",
     "output_type": "stream",
     "text": [
      "tentandomanipulararquivosnopython\n"
     ]
    }
   ],
   "source": [
    "# with fecha o arquivo apos o uso\n",
    "with open('resultados.txt') as file2:\n",
    "    print(file2.read())"
   ]
  },
  {
   "cell_type": "code",
   "execution_count": 17,
   "id": "handed-yemen",
   "metadata": {},
   "outputs": [
    {
     "ename": "ValueError",
     "evalue": "I/O operation on closed file.",
     "output_type": "error",
     "traceback": [
      "\u001b[1;31m---------------------------------------------------------------------------\u001b[0m",
      "\u001b[1;31mValueError\u001b[0m                                Traceback (most recent call last)",
      "\u001b[1;32m<ipython-input-17-4a9205324152>\u001b[0m in \u001b[0;36m<module>\u001b[1;34m\u001b[0m\n\u001b[1;32m----> 1\u001b[1;33m \u001b[0mfile2\u001b[0m\u001b[1;33m.\u001b[0m\u001b[0mread\u001b[0m\u001b[1;33m(\u001b[0m\u001b[1;33m)\u001b[0m\u001b[1;33m\u001b[0m\u001b[1;33m\u001b[0m\u001b[0m\n\u001b[0m",
      "\u001b[1;31mValueError\u001b[0m: I/O operation on closed file."
     ]
    }
   ],
   "source": [
    "file2.read()"
   ]
  },
  {
   "cell_type": "code",
   "execution_count": 18,
   "id": "norman-whale",
   "metadata": {},
   "outputs": [],
   "source": [
    "with open('resultados.txt') as file2:\n",
    "    conteudo_de_resultados = file2.readlines()"
   ]
  },
  {
   "cell_type": "code",
   "execution_count": 19,
   "id": "focused-elite",
   "metadata": {},
   "outputs": [
    {
     "data": {
      "text/plain": [
       "['tentandomanipulararquivosnopython']"
      ]
     },
     "execution_count": 19,
     "metadata": {},
     "output_type": "execute_result"
    }
   ],
   "source": [
    "conteudo_de_resultados"
   ]
  },
  {
   "cell_type": "markdown",
   "id": "decreased-summit",
   "metadata": {},
   "source": [
    "# Separando palavras por linha"
   ]
  },
  {
   "cell_type": "code",
   "execution_count": 23,
   "id": "iraqi-satisfaction",
   "metadata": {},
   "outputs": [
    {
     "name": "stdout",
     "output_type": "stream",
     "text": [
      "['tentand', 'manipulararquiv', 'sn', 'pyth', 'n']\n"
     ]
    }
   ],
   "source": [
    "for linha in conteudo_de_resultados:\n",
    "    print(linha.split('o'))"
   ]
  },
  {
   "cell_type": "code",
   "execution_count": null,
   "id": "happy-breach",
   "metadata": {},
   "outputs": [],
   "source": []
  }
 ],
 "metadata": {
  "kernelspec": {
   "display_name": "Python 3",
   "language": "python",
   "name": "python3"
  },
  "language_info": {
   "codemirror_mode": {
    "name": "ipython",
    "version": 3
   },
   "file_extension": ".py",
   "mimetype": "text/x-python",
   "name": "python",
   "nbconvert_exporter": "python",
   "pygments_lexer": "ipython3",
   "version": "3.8.5"
  }
 },
 "nbformat": 4,
 "nbformat_minor": 5
}
