{
 "cells": [
  {
   "cell_type": "markdown",
   "id": "studied-structure",
   "metadata": {},
   "source": [
    "# Matplotlib, Pyplot e Pylab\n",
    "\n",
    "* Pyplot é um módulo do pacot matplotlib que implicitamente cria figuras e eixos nos gráficos.\n",
    "* Pylab é outro módulo do matplotlib que já importa o numpyt e pyplot. Este módulo é projetado para plots de arrays e cálculos matemáticos.\n",
    "* Pylab esta depreciado"
   ]
  },
  {
   "cell_type": "code",
   "execution_count": 4,
   "id": "optimum-restriction",
   "metadata": {},
   "outputs": [],
   "source": [
    "import matplotlib.pyplot as plt\n",
    "import numpy as np"
   ]
  },
  {
   "cell_type": "code",
   "execution_count": 6,
   "id": "suited-hazard",
   "metadata": {},
   "outputs": [
    {
     "data": {
      "text/plain": [
       "(<Figure size 432x288 with 2 Axes>,\n",
       " array([<AxesSubplot:>, <AxesSubplot:>], dtype=object))"
      ]
     },
     "execution_count": 6,
     "metadata": {},
     "output_type": "execute_result"
    },
    {
     "data": {
      "image/png": "[encoded data removed]",
      "text/plain": [
       "<Figure size 432x288 with 2 Axes>"
      ]
     },
     "metadata": {
      "needs_background": "light"
     },
     "output_type": "display_data"
    }
   ],
   "source": [
    "# nrows = numero de linhas\n",
    "# ncols = numero de colunas\n",
    "\n",
    "plt.subplots(nrows=1, ncols=2)"
   ]
  },
  {
   "cell_type": "markdown",
   "id": "verified-rapid",
   "metadata": {},
   "source": [
    "**Para acessar subplots usa-se o método subplot**"
   ]
  },
  {
   "cell_type": "code",
   "execution_count": 7,
   "id": "absolute-panel",
   "metadata": {},
   "outputs": [
    {
     "data": {
      "text/plain": [
       "[<matplotlib.lines.Line2D at 0x21540aa7850>]"
      ]
     },
     "execution_count": 7,
     "metadata": {},
     "output_type": "execute_result"
    },
    {
     "data": {
      "image/png": "[encoded data removed]",
      "text/plain": [
       "<Figure size 432x288 with 2 Axes>"
      ]
     },
     "metadata": {
      "needs_background": "light"
     },
     "output_type": "display_data"
    }
   ],
   "source": [
    "x = [1, 2, 3, 4]\n",
    "y = [10, 20, 25, 40]\n",
    "\n",
    "plt.subplot(1, 2, 1)\n",
    "plt.plot(x, y, 'o')\n",
    "\n",
    "plt.subplot(1, 2, 2)\n",
    "plt.plot(x, y, color='r')\n"
   ]
  },
  {
   "cell_type": "markdown",
   "id": "innocent-hearing",
   "metadata": {},
   "source": [
    "**Criação de instâncias de classes figure**\n",
    "* Aumenta o controle do nível de customização das funções do matplotlib\n",
    "* Gera menos código devido a orientação a objetos."
   ]
  },
  {
   "cell_type": "code",
   "execution_count": 8,
   "id": "adjustable-comparative",
   "metadata": {},
   "outputs": [
    {
     "data": {
      "text/plain": [
       "[<matplotlib.lines.Line2D at 0x21541bbb640>]"
      ]
     },
     "execution_count": 8,
     "metadata": {},
     "output_type": "execute_result"
    },
    {
     "data": {
      "image/png": "[encoded data removed]",
      "text/plain": [
       "<Figure size 432x288 with 1 Axes>"
      ]
     },
     "metadata": {
      "needs_background": "light"
     },
     "output_type": "display_data"
    }
   ],
   "source": [
    "# Cria um objeto do tipo figure\n",
    "\n",
    "fig = plt.figure()\n",
    "\n",
    "# Define o tamanho em percentual do gráfico.\n",
    "# Altura e largura do eixo na figura\n",
    "axes_a = fig.add_axes([0.1, 0.1, 0.8, 0.8])\n",
    "\n",
    "# Plota o gráfico\n",
    "axes_a.plot(x,y)"
   ]
  },
  {
   "cell_type": "markdown",
   "id": "altered-syracuse",
   "metadata": {},
   "source": [
    "**Uma figura com dois gráficos de proporções diferentes**"
   ]
  },
  {
   "cell_type": "code",
   "execution_count": 9,
   "id": "angry-lafayette",
   "metadata": {},
   "outputs": [
    {
     "data": {
      "text/plain": [
       "[<matplotlib.lines.Line2D at 0x21541beddf0>]"
      ]
     },
     "execution_count": 9,
     "metadata": {},
     "output_type": "execute_result"
    },
    {
     "data": {
      "image/png": "[encoded data removed]",
      "text/plain": [
       "<Figure size 432x288 with 2 Axes>"
      ]
     },
     "metadata": {
      "needs_background": "light"
     },
     "output_type": "display_data"
    }
   ],
   "source": [
    "# Cria um objeto do tipo figure\n",
    "\n",
    "fig = plt.figure()\n",
    "\n",
    "axes_a = fig.add_axes([0.1, 0.1, 0.8, 0.8])\n",
    "axes_b = fig.add_axes([0.2, 0.5, 0.3, 0.3])\n",
    "\n",
    "axes_a.plot(x,y)\n",
    "axes_b.plot(x,y, 'r--')\n"
   ]
  },
  {
   "cell_type": "code",
   "execution_count": null,
   "id": "instant-superior",
   "metadata": {},
   "outputs": [],
   "source": []
  }
 ],
 "metadata": {
  "kernelspec": {
   "display_name": "Python 3",
   "language": "python",
   "name": "python3"
  },
  "language_info": {
   "codemirror_mode": {
    "name": "ipython",
    "version": 3
   },
   "file_extension": ".py",
   "mimetype": "text/x-python",
   "name": "python",
   "nbconvert_exporter": "python",
   "pygments_lexer": "ipython3",
   "version": "3.8.5"
  }
 },
 "nbformat": 4,
 "nbformat_minor": 5
}
