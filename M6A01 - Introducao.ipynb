{
 "cells": [
  {
   "cell_type": "markdown",
   "id": "southern-jacob",
   "metadata": {},
   "source": [
    "**Visualização de Dados**\n",
    "\n",
    "* Storytelling\n",
    "* Usar recursos gráficos para contar histórias com os dados"
   ]
  },
  {
   "cell_type": "markdown",
   "id": "satellite-weight",
   "metadata": {},
   "source": [
    "**Boas práticas com visualização de dados.**\n",
    "\n",
    "* Conheça sua Audiência.\n",
    "* Conte histórias com os dados.\n",
    "* Entregue uma experiência interativa.\n",
    "* Saiba quando utilizar bibliotecas ou criar dashboards."
   ]
  },
  {
   "cell_type": "markdown",
   "id": "annoying-return",
   "metadata": {},
   "source": [
    "# Tipos de Gráficos"
   ]
  },
  {
   "cell_type": "markdown",
   "id": "three-center",
   "metadata": {},
   "source": [
    "**Comparação de valores ou categorias** \n",
    "\n",
    "Objetivo: Destacar as proporções dos pontos\n",
    "\n",
    "* Barras\n",
    "* Bolhas\n",
    "* Pizza\n",
    "* Barra Espelhada\n",
    "* Nuvem de Bolha\n",
    "* Mapa de Árvores\n",
    "* Nuvem de Palavras"
   ]
  },
  {
   "cell_type": "markdown",
   "id": "retained-blair",
   "metadata": {},
   "source": [
    "**Mudanças ao longo do tempo**\n",
    "\n",
    "Objetivo: Plotar linhas ao longo do tempo.\n",
    "\n",
    "* Linhas\n",
    "* Àrea\n",
    "* Linha do tempo\n",
    "* Mapa do mapa"
   ]
  },
  {
   "cell_type": "markdown",
   "id": "reported-habitat",
   "metadata": {},
   "source": [
    "**Agrupamentos, Rankings ou Processos**\n",
    "\n",
    "Objetivo: Plotar informação ordinal ou hierárquica.\n",
    "\n",
    "* Lista de Processos\n",
    "* Carta de Fluxo Processo\n",
    "* Diagrama de Venn\n",
    "* Mapa mental\n",
    "* Diagrama da Pirâmide\n",
    "* Tabela\n",
    "* Gráfico de Barras Ordenadas"
   ]
  },
  {
   "cell_type": "markdown",
   "id": "polyphonic-scale",
   "metadata": {},
   "source": [
    "**Relações**\n",
    "\n",
    "Objetivo: Visualizar relações entre variáveis\n",
    "\n",
    "* Scatter Plot\n",
    "* Histograma\n",
    "* Gráfico Multi-Série"
   ]
  },
  {
   "cell_type": "markdown",
   "id": "false-trunk",
   "metadata": {},
   "source": [
    "**Bibliotecas e Ferramentas**\n",
    "\n",
    "* Matplotlib\n",
    "* Seaborn\n",
    "* Plotly\n",
    "* Microsoft Powerbi"
   ]
  },
  {
   "cell_type": "code",
   "execution_count": null,
   "id": "mounted-climb",
   "metadata": {},
   "outputs": [],
   "source": []
  }
 ],
 "metadata": {
  "kernelspec": {
   "display_name": "Python 3",
   "language": "python",
   "name": "python3"
  },
  "language_info": {
   "codemirror_mode": {
    "name": "ipython",
    "version": 3
   },
   "file_extension": ".py",
   "mimetype": "text/x-python",
   "name": "python",
   "nbconvert_exporter": "python",
   "pygments_lexer": "ipython3",
   "version": "3.8.5"
  }
 },
 "nbformat": 4,
 "nbformat_minor": 5
}
