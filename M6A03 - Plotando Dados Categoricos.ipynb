{
 "cells": [
  {
   "cell_type": "markdown",
   "id": "opposite-swiss",
   "metadata": {},
   "source": [
    "# Plotando dados categóricos"
   ]
  },
  {
   "cell_type": "markdown",
   "id": "motivated-morrison",
   "metadata": {},
   "source": [
    "* Trabalhando com gráficos de barras.\n",
    "* Ideal para quando estamos trabalhando com **comparação de valores.**\n",
    "* Normalmente quer se visualizar frequência ou percentual de valores."
   ]
  },
  {
   "cell_type": "markdown",
   "id": "concerned-watts",
   "metadata": {},
   "source": [
    "**Plotando gráfico de barras verticais ou gráfico de colunas**"
   ]
  },
  {
   "cell_type": "code",
   "execution_count": 2,
   "id": "spoken-luther",
   "metadata": {},
   "outputs": [],
   "source": [
    "from matplotlib import pyplot as plt"
   ]
  },
  {
   "cell_type": "code",
   "execution_count": 3,
   "id": "coated-excellence",
   "metadata": {},
   "outputs": [
    {
     "data": {
      "image/png": "[encoded data removed]",
      "text/plain": [
       "<Figure size 432x288 with 1 Axes>"
      ]
     },
     "metadata": {
      "needs_background": "light"
     },
     "output_type": "display_data"
    }
   ],
   "source": [
    "%matplotlib inline\n",
    "\n",
    "grupos = ['Produto A', 'Produto B', 'Produto C']\n",
    "valores = [1, 10, 100]\n",
    "\n",
    "plt.bar(grupos, valores)\n",
    "\n",
    "plt.show()"
   ]
  },
  {
   "cell_type": "markdown",
   "id": "sunrise-pollution",
   "metadata": {},
   "source": [
    "**Plotando gráfico de Barras juntas**"
   ]
  },
  {
   "cell_type": "code",
   "execution_count": 4,
   "id": "human-oklahoma",
   "metadata": {},
   "outputs": [],
   "source": [
    "import numpy as np"
   ]
  },
  {
   "cell_type": "code",
   "execution_count": 5,
   "id": "careful-newport",
   "metadata": {},
   "outputs": [
    {
     "data": {
      "image/png": "[encoded data removed]",
      "text/plain": [
       "<Figure size 432x288 with 1 Axes>"
      ]
     },
     "metadata": {
      "needs_background": "light"
     },
     "output_type": "display_data"
    }
   ],
   "source": [
    "%matplotlib inline\n",
    "\n",
    "valores_produto_A = [6, 7, 8, 4, 4]\n",
    "valores_produto_B = [3, 12, 3, 4, 6]\n",
    "\n",
    "x1 = np.arange(len(valores_produto_A))\n",
    "x2 = [x + 0.25 for x in x1]\n",
    "\n",
    "# Plota as barras\n",
    "plt.bar(x1, valores_produto_A, width=0.25, label = 'Produto A', color = 'b')\n",
    "plt.bar(x2, valores_produto_B, width=0.25, label = 'Produto B', color = 'y')\n",
    "\n",
    "meses = ['Agosto', 'Setembro', 'Outubro', 'Novembro', 'Dezembro']\n",
    "plt.xticks([x + 0.25 for x in range(len(valores_produto_A))], meses)\n",
    "\n",
    "plt.legend()\n",
    "\n",
    "plt.title('Quantidade de Vendas')\n",
    "\n",
    "plt.show()\n",
    "\n"
   ]
  }
 ],
 "metadata": {
  "kernelspec": {
   "display_name": "Python 3",
   "language": "python",
   "name": "python3"
  },
  "language_info": {
   "codemirror_mode": {
    "name": "ipython",
    "version": 3
   },
   "file_extension": ".py",
   "mimetype": "text/x-python",
   "name": "python",
   "nbconvert_exporter": "python",
   "pygments_lexer": "ipython3",
   "version": "3.8.5"
  }
 },
 "nbformat": 4,
 "nbformat_minor": 5
}
