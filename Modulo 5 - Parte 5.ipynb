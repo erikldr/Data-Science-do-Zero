{
 "cells": [
  {
   "cell_type": "markdown",
   "id": "average-female",
   "metadata": {},
   "source": [
    "# Python para Análise de Dados - Numpy"
   ]
  },
  {
   "cell_type": "code",
   "execution_count": 1,
   "id": "wicked-australia",
   "metadata": {},
   "outputs": [],
   "source": [
    "import numpy as np"
   ]
  },
  {
   "cell_type": "code",
   "execution_count": 9,
   "id": "surgical-mapping",
   "metadata": {},
   "outputs": [
    {
     "data": {
      "text/plain": [
       "array([1, 2, 3, 4])"
      ]
     },
     "execution_count": 9,
     "metadata": {},
     "output_type": "execute_result"
    }
   ],
   "source": [
    "# Cria um array de 1 dimensão\n",
    "one_dim = np.array([1,2,3,4])\n",
    "one_dim"
   ]
  },
  {
   "cell_type": "code",
   "execution_count": 10,
   "id": "indie-concert",
   "metadata": {},
   "outputs": [
    {
     "data": {
      "text/plain": [
       "1"
      ]
     },
     "execution_count": 10,
     "metadata": {},
     "output_type": "execute_result"
    }
   ],
   "source": [
    "one_dim.ndim"
   ]
  },
  {
   "cell_type": "code",
   "execution_count": 11,
   "id": "suspended-motion",
   "metadata": {},
   "outputs": [
    {
     "data": {
      "text/plain": [
       "array([[1, 2, 3],\n",
       "       [4, 5, 6]])"
      ]
     },
     "execution_count": 11,
     "metadata": {},
     "output_type": "execute_result"
    }
   ],
   "source": [
    "# Cria um array de 2 dimensões\n",
    "two_dim = np.array([(1,2,3), (4,5,6)])\n",
    "two_dim"
   ]
  },
  {
   "cell_type": "code",
   "execution_count": 12,
   "id": "distinct-place",
   "metadata": {},
   "outputs": [
    {
     "data": {
      "text/plain": [
       "2"
      ]
     },
     "execution_count": 12,
     "metadata": {},
     "output_type": "execute_result"
    }
   ],
   "source": [
    "two_dim.ndim"
   ]
  },
  {
   "cell_type": "code",
   "execution_count": 13,
   "id": "korean-identifier",
   "metadata": {},
   "outputs": [
    {
     "data": {
      "text/plain": [
       "array([[0.11280491, 0.92102805],\n",
       "       [0.66236548, 0.1475216 ],\n",
       "       [0.57487271, 0.88223229],\n",
       "       [0.20103741, 0.70633612],\n",
       "       [0.41120472, 0.82547414]])"
      ]
     },
     "execution_count": 13,
     "metadata": {},
     "output_type": "execute_result"
    }
   ],
   "source": [
    "# Cria um array com valores aleatorios\n",
    "# 5 linhas e 2 dimensões\n",
    "np.random.random((5,2))"
   ]
  },
  {
   "cell_type": "code",
   "execution_count": 14,
   "id": "willing-tulsa",
   "metadata": {},
   "outputs": [
    {
     "data": {
      "text/plain": [
       "array([10, 15, 20, 25, 30, 35, 40, 45])"
      ]
     },
     "execution_count": 14,
     "metadata": {},
     "output_type": "execute_result"
    }
   ],
   "source": [
    "# Cria um array com valores esparsos iniciando com o valor 10, menor que 50 e incrementando de 5 em 5.\n",
    "np.arange(10, 50, 5)"
   ]
  },
  {
   "cell_type": "code",
   "execution_count": 15,
   "id": "fixed-collectible",
   "metadata": {},
   "outputs": [
    {
     "data": {
      "text/plain": [
       "array([0.  , 0.25, 0.5 , 0.75, 1.  , 1.25, 1.5 , 1.75, 2.  ])"
      ]
     },
     "execution_count": 15,
     "metadata": {},
     "output_type": "execute_result"
    }
   ],
   "source": [
    "# Cria um array linear de 0 a 2 de no máximo 9 elementos.\n",
    "np.linspace(0, 2, 9)"
   ]
  },
  {
   "cell_type": "code",
   "execution_count": 16,
   "id": "incident-organ",
   "metadata": {},
   "outputs": [
    {
     "data": {
      "text/plain": [
       "array([[0., 0., 0., 0.],\n",
       "       [0., 0., 0., 0.],\n",
       "       [0., 0., 0., 0.]])"
      ]
     },
     "execution_count": 16,
     "metadata": {},
     "output_type": "execute_result"
    }
   ],
   "source": [
    "# Cria um array de valores zero.\n",
    "# Cria um array com 3 linhas e 4 dimensões.\n",
    "np.zeros((3,4))"
   ]
  },
  {
   "cell_type": "markdown",
   "id": "copyrighted-direction",
   "metadata": {},
   "source": [
    "# Numpy Arrays vs Listas"
   ]
  },
  {
   "cell_type": "markdown",
   "id": "annual-tongue",
   "metadata": {},
   "source": [
    "* Arrays Numpy permitem fazermos operações em **arrays inteiros** de forma rapida.\n",
    "* Listas nao permitem operações em todos os elementos da lista.\n",
    "* Para operações em todos os elementos é preciso iterar sobre toda a lista.\n",
    "* Listas em Python armazenam diferentes tipos de objetos.\n",
    "* Arrays Numpy considera todos os elementos de tipos distintos como strings"
   ]
  },
  {
   "cell_type": "code",
   "execution_count": 17,
   "id": "flexible-creator",
   "metadata": {},
   "outputs": [],
   "source": [
    "# Criando uma lista em Python\n",
    "lista = [1,2,3]"
   ]
  },
  {
   "cell_type": "code",
   "execution_count": 18,
   "id": "breathing-giving",
   "metadata": {},
   "outputs": [
    {
     "data": {
      "text/plain": [
       "[1, 2, 3, 1, 2, 3]"
      ]
     },
     "execution_count": 18,
     "metadata": {},
     "output_type": "execute_result"
    }
   ],
   "source": [
    "# Multiplicar valores da lista por 2.\n",
    "lista * 2"
   ]
  },
  {
   "cell_type": "code",
   "execution_count": 19,
   "id": "incorporate-terry",
   "metadata": {},
   "outputs": [],
   "source": [
    "# Transforme a variavel lista em um array Numpy\n",
    "lista = np.array(lista)"
   ]
  },
  {
   "cell_type": "code",
   "execution_count": 20,
   "id": "exact-boundary",
   "metadata": {},
   "outputs": [
    {
     "data": {
      "text/plain": [
       "numpy.ndarray"
      ]
     },
     "execution_count": 20,
     "metadata": {},
     "output_type": "execute_result"
    }
   ],
   "source": [
    "# Imprimindo o tipo do objeto.\n",
    "type(lista)"
   ]
  },
  {
   "cell_type": "code",
   "execution_count": 21,
   "id": "addressed-thomson",
   "metadata": {},
   "outputs": [
    {
     "data": {
      "text/plain": [
       "array([2, 4, 6])"
      ]
     },
     "execution_count": 21,
     "metadata": {},
     "output_type": "execute_result"
    }
   ],
   "source": [
    "# Multiplicando cada elemento por 2\n",
    "lista * 2"
   ]
  },
  {
   "cell_type": "code",
   "execution_count": 22,
   "id": "lightweight-apple",
   "metadata": {},
   "outputs": [],
   "source": [
    "# Calcular IMC de pessoas.\n",
    "pesos = [67, 81, 120, 90]\n",
    "altura = [1.68, 1.70, 1.75, 1.85]"
   ]
  },
  {
   "cell_type": "code",
   "execution_count": 23,
   "id": "mediterranean-texture",
   "metadata": {},
   "outputs": [
    {
     "ename": "TypeError",
     "evalue": "unsupported operand type(s) for ** or pow(): 'list' and 'int'",
     "output_type": "error",
     "traceback": [
      "\u001b[1;31m---------------------------------------------------------------------------\u001b[0m",
      "\u001b[1;31mTypeError\u001b[0m                                 Traceback (most recent call last)",
      "\u001b[1;32m<ipython-input-23-af3949dc9f4d>\u001b[0m in \u001b[0;36m<module>\u001b[1;34m\u001b[0m\n\u001b[0;32m      1\u001b[0m \u001b[1;31m# Faz o cálculo usando as listas\u001b[0m\u001b[1;33m\u001b[0m\u001b[1;33m\u001b[0m\u001b[1;33m\u001b[0m\u001b[0m\n\u001b[1;32m----> 2\u001b[1;33m \u001b[0mpesos\u001b[0m \u001b[1;33m/\u001b[0m \u001b[0maltura\u001b[0m \u001b[1;33m**\u001b[0m \u001b[1;36m2\u001b[0m\u001b[1;33m\u001b[0m\u001b[1;33m\u001b[0m\u001b[0m\n\u001b[0m",
      "\u001b[1;31mTypeError\u001b[0m: unsupported operand type(s) for ** or pow(): 'list' and 'int'"
     ]
    }
   ],
   "source": [
    "# Faz o cálculo usando as listas\n",
    "pesos / altura ** 2"
   ]
  },
  {
   "cell_type": "code",
   "execution_count": 24,
   "id": "waiting-alaska",
   "metadata": {},
   "outputs": [],
   "source": [
    "# Convertendo as listas para array\n",
    "pesos = np.array(pesos)\n",
    "altura = np.array(altura)"
   ]
  },
  {
   "cell_type": "code",
   "execution_count": 25,
   "id": "tender-lover",
   "metadata": {},
   "outputs": [
    {
     "data": {
      "text/plain": [
       "array([23.73866213, 28.02768166, 39.18367347, 26.29656684])"
      ]
     },
     "execution_count": 25,
     "metadata": {},
     "output_type": "execute_result"
    }
   ],
   "source": [
    "# Faz o cálculo usando os arrays\n",
    "pesos / altura ** 2"
   ]
  },
  {
   "cell_type": "code",
   "execution_count": 26,
   "id": "geological-confidentiality",
   "metadata": {},
   "outputs": [],
   "source": [
    "# Arrays Numpy armazena elementos como strings quando estes não são inteiros ou float\n",
    "a = np.array([1, 3, 'Casa', True])"
   ]
  },
  {
   "cell_type": "code",
   "execution_count": 29,
   "id": "explicit-skiing",
   "metadata": {},
   "outputs": [
    {
     "data": {
      "text/plain": [
       "array(['1', '3', 'Casa', 'True'], dtype='<U11')"
      ]
     },
     "execution_count": 29,
     "metadata": {},
     "output_type": "execute_result"
    }
   ],
   "source": [
    "a"
   ]
  },
  {
   "cell_type": "code",
   "execution_count": 30,
   "id": "trained-community",
   "metadata": {},
   "outputs": [
    {
     "ename": "UFuncTypeError",
     "evalue": "ufunc 'multiply' did not contain a loop with signature matching types (dtype('<U11'), dtype('<U11')) -> dtype('<U11')",
     "output_type": "error",
     "traceback": [
      "\u001b[1;31m---------------------------------------------------------------------------\u001b[0m",
      "\u001b[1;31mUFuncTypeError\u001b[0m                            Traceback (most recent call last)",
      "\u001b[1;32m<ipython-input-30-aaf64398fbaf>\u001b[0m in \u001b[0;36m<module>\u001b[1;34m\u001b[0m\n\u001b[1;32m----> 1\u001b[1;33m \u001b[0ma\u001b[0m \u001b[1;33m*\u001b[0m \u001b[1;36m2\u001b[0m\u001b[1;33m\u001b[0m\u001b[1;33m\u001b[0m\u001b[0m\n\u001b[0m",
      "\u001b[1;31mUFuncTypeError\u001b[0m: ufunc 'multiply' did not contain a loop with signature matching types (dtype('<U11'), dtype('<U11')) -> dtype('<U11')"
     ]
    }
   ],
   "source": [
    "a * 2"
   ]
  },
  {
   "cell_type": "markdown",
   "id": "smoking-prophet",
   "metadata": {},
   "source": [
    "# Métodos e Atributos Úteis"
   ]
  },
  {
   "cell_type": "code",
   "execution_count": 31,
   "id": "stretch-inventory",
   "metadata": {},
   "outputs": [
    {
     "data": {
      "text/plain": [
       "array([[1, 2, 3],\n",
       "       [4, 5, 6]])"
      ]
     },
     "execution_count": 31,
     "metadata": {},
     "output_type": "execute_result"
    }
   ],
   "source": [
    "# Métodos disponíveis (digite o. pressione tab).\n",
    "two_dim"
   ]
  },
  {
   "cell_type": "code",
   "execution_count": 33,
   "id": "prime-council",
   "metadata": {},
   "outputs": [
    {
     "data": {
      "text/plain": [
       "(2, 3)"
      ]
     },
     "execution_count": 33,
     "metadata": {},
     "output_type": "execute_result"
    }
   ],
   "source": [
    "# Retorna a forma do array\n",
    "two_dim.shape"
   ]
  },
  {
   "cell_type": "code",
   "execution_count": 34,
   "id": "express-august",
   "metadata": {},
   "outputs": [
    {
     "data": {
      "text/plain": [
       "2"
      ]
     },
     "execution_count": 34,
     "metadata": {},
     "output_type": "execute_result"
    }
   ],
   "source": [
    "# Retorna a quantidade de dimensões\n",
    "two_dim.ndim"
   ]
  },
  {
   "cell_type": "code",
   "execution_count": 35,
   "id": "baking-sierra",
   "metadata": {},
   "outputs": [
    {
     "data": {
      "text/plain": [
       "1"
      ]
     },
     "execution_count": 35,
     "metadata": {},
     "output_type": "execute_result"
    }
   ],
   "source": [
    "# Imprimindo o valor mínimo.\n",
    "two_dim.min()"
   ]
  },
  {
   "cell_type": "code",
   "execution_count": 36,
   "id": "bronze-annual",
   "metadata": {},
   "outputs": [
    {
     "data": {
      "text/plain": [
       "6"
      ]
     },
     "execution_count": 36,
     "metadata": {},
     "output_type": "execute_result"
    }
   ],
   "source": [
    "# Imprimindo o valor máximo.\n",
    "two_dim.max()"
   ]
  },
  {
   "cell_type": "code",
   "execution_count": 37,
   "id": "equal-stability",
   "metadata": {},
   "outputs": [
    {
     "data": {
      "text/plain": [
       "3.5"
      ]
     },
     "execution_count": 37,
     "metadata": {},
     "output_type": "execute_result"
    }
   ],
   "source": [
    "# Imprimindo a média.\n",
    "two_dim.mean()"
   ]
  },
  {
   "cell_type": "code",
   "execution_count": 38,
   "id": "acquired-measure",
   "metadata": {},
   "outputs": [
    {
     "data": {
      "text/plain": [
       "1.707825127659933"
      ]
     },
     "execution_count": 38,
     "metadata": {},
     "output_type": "execute_result"
    }
   ],
   "source": [
    "# Imprimindo o desvio padrão.\n",
    "two_dim.std()"
   ]
  },
  {
   "cell_type": "code",
   "execution_count": 40,
   "id": "analyzed-detroit",
   "metadata": {},
   "outputs": [
    {
     "data": {
      "text/plain": [
       "dtype('int32')"
      ]
     },
     "execution_count": 40,
     "metadata": {},
     "output_type": "execute_result"
    }
   ],
   "source": [
    "# Tipo de dados do array\n",
    "two_dim.dtype"
   ]
  },
  {
   "cell_type": "code",
   "execution_count": 41,
   "id": "moderate-recommendation",
   "metadata": {},
   "outputs": [
    {
     "data": {
      "text/plain": [
       "6"
      ]
     },
     "execution_count": 41,
     "metadata": {},
     "output_type": "execute_result"
    }
   ],
   "source": [
    "# Quantidade de elementos no array\n",
    "two_dim.size"
   ]
  },
  {
   "cell_type": "code",
   "execution_count": 42,
   "id": "hindu-pierre",
   "metadata": {},
   "outputs": [
    {
     "data": {
      "text/plain": [
       "4"
      ]
     },
     "execution_count": 42,
     "metadata": {},
     "output_type": "execute_result"
    }
   ],
   "source": [
    "# Quantidade dos elementos em bytes\n",
    "two_dim.itemsize"
   ]
  },
  {
   "cell_type": "code",
   "execution_count": 43,
   "id": "opening-suspension",
   "metadata": {},
   "outputs": [
    {
     "data": {
      "text/plain": [
       "21"
      ]
     },
     "execution_count": 43,
     "metadata": {},
     "output_type": "execute_result"
    }
   ],
   "source": [
    "# Somando todos os elementos do array.\n",
    "two_dim.sum()"
   ]
  },
  {
   "cell_type": "markdown",
   "id": "mysterious-convertible",
   "metadata": {},
   "source": [
    "## Transformando Arrays "
   ]
  },
  {
   "cell_type": "code",
   "execution_count": 44,
   "id": "military-inquiry",
   "metadata": {},
   "outputs": [
    {
     "data": {
      "text/plain": [
       "array([[1, 2, 3],\n",
       "       [4, 5, 6]])"
      ]
     },
     "execution_count": 44,
     "metadata": {},
     "output_type": "execute_result"
    }
   ],
   "source": [
    "two_dim"
   ]
  },
  {
   "cell_type": "code",
   "execution_count": 46,
   "id": "promotional-vacation",
   "metadata": {},
   "outputs": [
    {
     "data": {
      "text/plain": [
       "array([[1, 4],\n",
       "       [2, 5],\n",
       "       [3, 6]])"
      ]
     },
     "execution_count": 46,
     "metadata": {},
     "output_type": "execute_result"
    }
   ],
   "source": [
    "# Gera a transposta da Matriz (Linha -> coluna)\n",
    "two_dim.T"
   ]
  },
  {
   "cell_type": "code",
   "execution_count": 47,
   "id": "roman-portsmouth",
   "metadata": {},
   "outputs": [
    {
     "data": {
      "text/plain": [
       "array([[1, 2, 3],\n",
       "       [4, 5, 6]])"
      ]
     },
     "execution_count": 47,
     "metadata": {},
     "output_type": "execute_result"
    }
   ],
   "source": [
    "two_dim"
   ]
  },
  {
   "cell_type": "code",
   "execution_count": 48,
   "id": "likely-custom",
   "metadata": {},
   "outputs": [
    {
     "data": {
      "text/plain": [
       "array([1, 2, 3, 4, 5, 6])"
      ]
     },
     "execution_count": 48,
     "metadata": {},
     "output_type": "execute_result"
    }
   ],
   "source": [
    "# Transposta em uma matriz de uma lista.\n",
    "# E muito comum em bibliotecas como scikit-learn e Keras\n",
    "two_dim.reshape(-1)"
   ]
  },
  {
   "cell_type": "code",
   "execution_count": 49,
   "id": "controlled-advancement",
   "metadata": {},
   "outputs": [],
   "source": [
    "tree = np.random.random((5,3))"
   ]
  },
  {
   "cell_type": "code",
   "execution_count": 50,
   "id": "civilian-medium",
   "metadata": {},
   "outputs": [
    {
     "data": {
      "text/plain": [
       "(5, 3)"
      ]
     },
     "execution_count": 50,
     "metadata": {},
     "output_type": "execute_result"
    }
   ],
   "source": [
    "tree.shape"
   ]
  },
  {
   "cell_type": "code",
   "execution_count": 51,
   "id": "working-factor",
   "metadata": {},
   "outputs": [
    {
     "data": {
      "text/plain": [
       "array([[0.68445708, 0.98042744, 0.1665756 , 0.46524659, 0.99263439],\n",
       "       [0.5476594 , 0.39929892, 0.89987649, 0.51689144, 0.68580043],\n",
       "       [0.35631724, 0.32741977, 0.36189293, 0.56674327, 0.90368211]])"
      ]
     },
     "execution_count": 51,
     "metadata": {},
     "output_type": "execute_result"
    }
   ],
   "source": [
    "# Transofmra em uma matriz com 3 linhas e 5 colunas\n",
    "tree.reshape(3, 5)"
   ]
  },
  {
   "cell_type": "code",
   "execution_count": 52,
   "id": "starting-fireplace",
   "metadata": {},
   "outputs": [
    {
     "data": {
      "text/plain": [
       "(15,)"
      ]
     },
     "execution_count": 52,
     "metadata": {},
     "output_type": "execute_result"
    }
   ],
   "source": [
    "tree.reshape(-1).shape"
   ]
  },
  {
   "cell_type": "code",
   "execution_count": 53,
   "id": "intended-country",
   "metadata": {},
   "outputs": [
    {
     "data": {
      "text/plain": [
       "(1, 15)"
      ]
     },
     "execution_count": 53,
     "metadata": {},
     "output_type": "execute_result"
    }
   ],
   "source": [
    "t = tree.reshape(1,15)\n",
    "t.shape"
   ]
  },
  {
   "cell_type": "code",
   "execution_count": 61,
   "id": "spiritual-dealer",
   "metadata": {},
   "outputs": [
    {
     "data": {
      "text/plain": [
       "array([2, 3, 4, 5, 6])"
      ]
     },
     "execution_count": 61,
     "metadata": {},
     "output_type": "execute_result"
    }
   ],
   "source": [
    "two_dim"
   ]
  },
  {
   "cell_type": "code",
   "execution_count": 54,
   "id": "economic-andrew",
   "metadata": {},
   "outputs": [],
   "source": [
    "# Adicionando elementos a um array.\n",
    "two_dim = np.insert(two_dim, 0, 10)"
   ]
  },
  {
   "cell_type": "code",
   "execution_count": 56,
   "id": "dependent-amount",
   "metadata": {},
   "outputs": [
    {
     "data": {
      "text/plain": [
       "array([10,  1,  2,  3,  4,  5,  6])"
      ]
     },
     "execution_count": 56,
     "metadata": {},
     "output_type": "execute_result"
    }
   ],
   "source": [
    "# Transforma em um array de uma linha.\n",
    "two_dim"
   ]
  },
  {
   "cell_type": "code",
   "execution_count": 59,
   "id": "amateur-diversity",
   "metadata": {},
   "outputs": [
    {
     "data": {
      "text/plain": [
       "array([2, 3, 4, 5, 6])"
      ]
     },
     "execution_count": 59,
     "metadata": {},
     "output_type": "execute_result"
    }
   ],
   "source": [
    "# Apagando o elemento da primeira posição\n",
    "two_dim = np.delete(two_dim, [0])\n",
    "two_dim"
   ]
  },
  {
   "cell_type": "code",
   "execution_count": 62,
   "id": "robust-statistics",
   "metadata": {},
   "outputs": [],
   "source": [
    "# Gerando um arquivo .txt a partir de um array\n",
    "np.savetxt('dataset_array.txt', two_dim, delimiter=',')"
   ]
  },
  {
   "cell_type": "markdown",
   "id": "boring-lotus",
   "metadata": {},
   "source": [
    "# Acessando Dimensões no Array"
   ]
  },
  {
   "cell_type": "code",
   "execution_count": 63,
   "id": "disabled-gender",
   "metadata": {},
   "outputs": [],
   "source": [
    "# Gera um array aleatorio de 10 linhas e 2 colunas\n",
    "# formato linha,coluna\n",
    "my_array = np.random.random([10,2])"
   ]
  },
  {
   "cell_type": "code",
   "execution_count": 64,
   "id": "acute-sydney",
   "metadata": {},
   "outputs": [
    {
     "data": {
      "text/plain": [
       "array([[0.37716717, 0.76097231],\n",
       "       [0.12406866, 0.32381066],\n",
       "       [0.48939733, 0.10039578],\n",
       "       [0.3609162 , 0.03502409],\n",
       "       [0.90482845, 0.69573713],\n",
       "       [0.34593502, 0.79443605],\n",
       "       [0.71249947, 0.29082008],\n",
       "       [0.58141467, 0.88178546],\n",
       "       [0.50786033, 0.07040052],\n",
       "       [0.55701932, 0.24858312]])"
      ]
     },
     "execution_count": 64,
     "metadata": {},
     "output_type": "execute_result"
    }
   ],
   "source": [
    "my_array"
   ]
  },
  {
   "cell_type": "code",
   "execution_count": 65,
   "id": "precise-italic",
   "metadata": {},
   "outputs": [
    {
     "data": {
      "text/plain": [
       "array([0.37716717, 0.76097231])"
      ]
     },
     "execution_count": 65,
     "metadata": {},
     "output_type": "execute_result"
    }
   ],
   "source": [
    "# Imprimindo o primeiro elemento (1 linha)\n",
    "my_array[0]"
   ]
  },
  {
   "cell_type": "code",
   "execution_count": 66,
   "id": "plastic-investment",
   "metadata": {},
   "outputs": [
    {
     "data": {
      "text/plain": [
       "0.37716716800464234"
      ]
     },
     "execution_count": 66,
     "metadata": {},
     "output_type": "execute_result"
    }
   ],
   "source": [
    "# Imprimindo o primeiro elemento da coluna 0 (1 linha)\n",
    "my_array[0][0]"
   ]
  },
  {
   "cell_type": "code",
   "execution_count": 67,
   "id": "capable-future",
   "metadata": {},
   "outputs": [
    {
     "data": {
      "text/plain": [
       "0.7609723091483334"
      ]
     },
     "execution_count": 67,
     "metadata": {},
     "output_type": "execute_result"
    }
   ],
   "source": [
    "# Primeiro elemento da coluna 1\n",
    "my_array[0][1]"
   ]
  },
  {
   "cell_type": "code",
   "execution_count": 68,
   "id": "cooperative-visit",
   "metadata": {},
   "outputs": [
    {
     "data": {
      "text/plain": [
       "0.3238106645011761"
      ]
     },
     "execution_count": 68,
     "metadata": {},
     "output_type": "execute_result"
    }
   ],
   "source": [
    "# Segundo elemento da coluna 1\n",
    "my_array[1][1]"
   ]
  },
  {
   "cell_type": "code",
   "execution_count": 69,
   "id": "tamil-shape",
   "metadata": {},
   "outputs": [
    {
     "data": {
      "text/plain": [
       "0.3238106645011761"
      ]
     },
     "execution_count": 69,
     "metadata": {},
     "output_type": "execute_result"
    }
   ],
   "source": [
    "# Segundo elemento da coluna escrito com virgula.\n",
    "# O primeiro valor especifica a linha e o segundo valor a coluna\n",
    "my_array[1,1]"
   ]
  },
  {
   "cell_type": "code",
   "execution_count": 70,
   "id": "returning-lewis",
   "metadata": {},
   "outputs": [
    {
     "data": {
      "text/plain": [
       "array([0.76097231, 0.32381066, 0.10039578])"
      ]
     },
     "execution_count": 70,
     "metadata": {},
     "output_type": "execute_result"
    }
   ],
   "source": [
    "# Imprimindo até 3 valores da coluna 1\n",
    "my_array[:3,1]"
   ]
  },
  {
   "cell_type": "code",
   "execution_count": 71,
   "id": "handed-latter",
   "metadata": {},
   "outputs": [
    {
     "data": {
      "text/plain": [
       "array([7.60972309, 3.23810665, 1.00395777, 0.35024093, 6.95737126,\n",
       "       7.94436054, 2.90820075, 8.81785459, 0.70400523, 2.48583118])"
      ]
     },
     "execution_count": 71,
     "metadata": {},
     "output_type": "execute_result"
    }
   ],
   "source": [
    "# Imprime todas as linhas da coluna 2 * 10\n",
    "my_array[:, 1] * 10"
   ]
  },
  {
   "cell_type": "code",
   "execution_count": 72,
   "id": "unable-hybrid",
   "metadata": {},
   "outputs": [
    {
     "data": {
      "text/plain": [
       "array([[False,  True],\n",
       "       [False, False],\n",
       "       [False, False],\n",
       "       [False, False],\n",
       "       [ True,  True],\n",
       "       [False,  True],\n",
       "       [ True, False],\n",
       "       [ True,  True],\n",
       "       [ True, False],\n",
       "       [ True, False]])"
      ]
     },
     "execution_count": 72,
     "metadata": {},
     "output_type": "execute_result"
    }
   ],
   "source": [
    "# Comparação retorna indices\n",
    "my_array > 0.50"
   ]
  },
  {
   "cell_type": "code",
   "execution_count": 73,
   "id": "trained-mother",
   "metadata": {},
   "outputs": [
    {
     "data": {
      "text/plain": [
       "array([0.76097231, 0.90482845, 0.69573713, 0.79443605, 0.71249947,\n",
       "       0.58141467, 0.88178546, 0.50786033, 0.55701932])"
      ]
     },
     "execution_count": 73,
     "metadata": {},
     "output_type": "execute_result"
    }
   ],
   "source": [
    "# Acessando os elementos da comparação\n",
    "my_array[my_array > 0.50]"
   ]
  },
  {
   "cell_type": "markdown",
   "id": "adapted-berry",
   "metadata": {},
   "source": [
    "# Carregar Arrays Numpy a partir de arquivos de texto"
   ]
  },
  {
   "cell_type": "code",
   "execution_count": 74,
   "id": "accompanied-praise",
   "metadata": {},
   "outputs": [],
   "source": [
    "dataset = np.loadtxt('dataset_array.txt', delimiter=',')"
   ]
  },
  {
   "cell_type": "code",
   "execution_count": 75,
   "id": "original-blame",
   "metadata": {},
   "outputs": [
    {
     "data": {
      "text/plain": [
       "(5,)"
      ]
     },
     "execution_count": 75,
     "metadata": {},
     "output_type": "execute_result"
    }
   ],
   "source": [
    "dataset.shape"
   ]
  },
  {
   "cell_type": "code",
   "execution_count": 85,
   "id": "ambient-myanmar",
   "metadata": {},
   "outputs": [],
   "source": [
    "# Carregando um arquivo dividido em 3 arrays\n",
    "# skiprows = 1 ( pula a linha do nome das colunas)\n",
    "a, b, c = np.loadtxt('dataset_valores.txt', skiprows=1, unpack=True)"
   ]
  },
  {
   "cell_type": "code",
   "execution_count": 86,
   "id": "baking-judge",
   "metadata": {},
   "outputs": [
    {
     "data": {
      "text/plain": [
       "array([0.48, 0.12, 0.17, 0.76, 0.59])"
      ]
     },
     "execution_count": 86,
     "metadata": {},
     "output_type": "execute_result"
    }
   ],
   "source": [
    "# Array a\n",
    "a"
   ]
  },
  {
   "cell_type": "code",
   "execution_count": 87,
   "id": "flush-theology",
   "metadata": {},
   "outputs": [
    {
     "data": {
      "text/plain": [
       "array([0.45, 0.68, 0.3 , 0.58, 0.43])"
      ]
     },
     "execution_count": 87,
     "metadata": {},
     "output_type": "execute_result"
    }
   ],
   "source": [
    "# Array b\n",
    "b"
   ]
  },
  {
   "cell_type": "code",
   "execution_count": 88,
   "id": "rural-equivalent",
   "metadata": {},
   "outputs": [
    {
     "data": {
      "text/plain": [
       "array([0.35, 0.65, 0.89, 0.2 , 0.74])"
      ]
     },
     "execution_count": 88,
     "metadata": {},
     "output_type": "execute_result"
    }
   ],
   "source": [
    "# Array c\n",
    "c"
   ]
  },
  {
   "cell_type": "code",
   "execution_count": 93,
   "id": "intensive-implementation",
   "metadata": {},
   "outputs": [],
   "source": [
    "# Carrega o arquivo ignorando as 2 primeiras linhas e preenchendo os valores vazio por 0\n",
    "# Obs: os valores string também são convertidos!\n",
    "dataset = np.genfromtxt('dataset_valores_vazio.txt', skip_header=2, filling_values=0)"
   ]
  },
  {
   "cell_type": "code",
   "execution_count": 94,
   "id": "processed-internship",
   "metadata": {},
   "outputs": [
    {
     "data": {
      "text/plain": [
       "array([[0.  , 0.45, 0.35],\n",
       "       [0.12, 0.68, 0.  ],\n",
       "       [0.17, 0.3 , 0.89],\n",
       "       [0.  , 0.58, 0.2 ],\n",
       "       [0.59, 0.43, 0.74]])"
      ]
     },
     "execution_count": 94,
     "metadata": {},
     "output_type": "execute_result"
    }
   ],
   "source": [
    "dataset"
   ]
  },
  {
   "cell_type": "code",
   "execution_count": null,
   "id": "integrated-elephant",
   "metadata": {},
   "outputs": [],
   "source": []
  }
 ],
 "metadata": {
  "kernelspec": {
   "display_name": "Python 3",
   "language": "python",
   "name": "python3"
  },
  "language_info": {
   "codemirror_mode": {
    "name": "ipython",
    "version": 3
   },
   "file_extension": ".py",
   "mimetype": "text/x-python",
   "name": "python",
   "nbconvert_exporter": "python",
   "pygments_lexer": "ipython3",
   "version": "3.8.5"
  }
 },
 "nbformat": 4,
 "nbformat_minor": 5
}
